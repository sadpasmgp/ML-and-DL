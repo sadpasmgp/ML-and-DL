{
 "cells": [
  {
   "cell_type": "markdown",
   "metadata": {},
   "source": [
    "Handwritten digits recognition dataset training using tensorflow-gpu"
   ]
  },
  {
   "cell_type": "code",
   "execution_count": 1,
   "metadata": {},
   "outputs": [],
   "source": [
    "import tensorflow as tf"
   ]
  },
  {
   "cell_type": "code",
   "execution_count": 2,
   "metadata": {},
   "outputs": [
    {
     "name": "stdout",
     "output_type": "stream",
     "text": [
      "Downloading data from https://storage.googleapis.com/tensorflow/tf-keras-datasets/mnist.npz\n",
      "11493376/11490434 [==============================] - 1s 0us/step\n"
     ]
    }
   ],
   "source": [
    "mnist = tf.keras.datasets.mnist\n",
    "\n",
    "(train_images, train_labels), (test_images, test_labels) = mnist.load_data()"
   ]
  },
  {
   "cell_type": "code",
   "execution_count": 3,
   "metadata": {},
   "outputs": [],
   "source": [
    "# reshape and rescale data for the CNN\n",
    "\n",
    "train_images = train_images.reshape(60000, 28, 28, 1)\n",
    "\n",
    "test_images = test_images.reshape(10000, 28, 28, 1)\n",
    "\n",
    "train_images, test_images = train_images/255, test_images/255"
   ]
  },
  {
   "cell_type": "markdown",
   "metadata": {},
   "source": [
    "Create the LeNet-5 convolution neural network architecture"
   ]
  },
  {
   "cell_type": "code",
   "execution_count": 4,
   "metadata": {},
   "outputs": [],
   "source": [
    "model = tf.keras.Sequential([\n",
    "    tf.keras.layers.Conv2D(32, (3,3), activation='relu', input_shape=(28,28,1)),\n",
    "    tf.keras.layers.Conv2D(64, (3,3), activation='relu'),\n",
    "    tf.keras.layers.MaxPooling2D(2,2),\n",
    "    tf.keras.layers.Dropout(0.25),\n",
    "    tf.keras.layers.Flatten(),\n",
    "    tf.keras.layers.Dense(128, activation='relu'),\n",
    "    tf.keras.layers.Dropout(0.5),\n",
    "    tf.keras.layers.Dense(10, activation='softmax')\n",
    "])"
   ]
  },
  {
   "cell_type": "markdown",
   "metadata": {},
   "source": [
    "Compile the model"
   ]
  },
  {
   "cell_type": "code",
   "execution_count": 5,
   "metadata": {},
   "outputs": [],
   "source": [
    "model.compile(optimizer='adam', loss='sparse_categorical_crossentropy', metrics=['accuracy'])"
   ]
  },
  {
   "cell_type": "markdown",
   "metadata": {},
   "source": [
    "Set log data to feed to TensorBoard for visual analysis"
   ]
  },
  {
   "cell_type": "code",
   "execution_count": 11,
   "metadata": {},
   "outputs": [
    {
     "data": {
      "text/plain": [
       "<module 'ntpath' from 'C:\\\\Users\\\\achie\\\\anaconda3\\\\envs\\\\tf-gpu\\\\lib\\\\ntpath.py'>"
      ]
     },
     "execution_count": 11,
     "metadata": {},
     "output_type": "execute_result"
    }
   ],
   "source": [
    "import os\n",
    "os.path"
   ]
  },
  {
   "cell_type": "code",
   "execution_count": 6,
   "metadata": {},
   "outputs": [],
   "source": [
    "tensor_board = tf.keras.callbacks.TensorBoard('./logs/LeNet-MNIST-1')"
   ]
  },
  {
   "cell_type": "markdown",
   "metadata": {},
   "source": [
    "Train the model (with timing)"
   ]
  },
  {
   "cell_type": "code",
   "execution_count": 12,
   "metadata": {},
   "outputs": [
    {
     "name": "stdout",
     "output_type": "stream",
     "text": [
      "Train on 60000 samples, validate on 10000 samples\n",
      "Epoch 1/100\n",
      "60000/60000 [==============================] - 7s 111us/sample - loss: 0.2395 - accuracy: 0.9264 - val_loss: 0.0502 - val_accuracy: 0.9838\n",
      "Epoch 2/100\n",
      "60000/60000 [==============================] - 4s 66us/sample - loss: 0.0850 - accuracy: 0.9748 - val_loss: 0.0377 - val_accuracy: 0.9879\n",
      "Epoch 3/100\n",
      "60000/60000 [==============================] - 4s 65us/sample - loss: 0.0634 - accuracy: 0.9810 - val_loss: 0.0323 - val_accuracy: 0.9900\n",
      "Epoch 4/100\n",
      "60000/60000 [==============================] - 4s 64us/sample - loss: 0.0523 - accuracy: 0.9840 - val_loss: 0.0335 - val_accuracy: 0.9879\n",
      "Epoch 5/100\n",
      "60000/60000 [==============================] - 4s 65us/sample - loss: 0.0472 - accuracy: 0.9856 - val_loss: 0.0285 - val_accuracy: 0.9905\n",
      "Epoch 6/100\n",
      "60000/60000 [==============================] - 4s 65us/sample - loss: 0.0402 - accuracy: 0.9880 - val_loss: 0.0265 - val_accuracy: 0.9921\n",
      "Epoch 7/100\n",
      "60000/60000 [==============================] - 4s 64us/sample - loss: 0.0344 - accuracy: 0.9889 - val_loss: 0.0294 - val_accuracy: 0.9908\n",
      "Epoch 8/100\n",
      "60000/60000 [==============================] - 4s 64us/sample - loss: 0.0322 - accuracy: 0.9894 - val_loss: 0.0271 - val_accuracy: 0.9916\n",
      "Epoch 9/100\n",
      "60000/60000 [==============================] - 4s 65us/sample - loss: 0.0294 - accuracy: 0.9906 - val_loss: 0.0262 - val_accuracy: 0.9919\n",
      "Epoch 10/100\n",
      "60000/60000 [==============================] - 4s 65us/sample - loss: 0.0267 - accuracy: 0.9918 - val_loss: 0.0258 - val_accuracy: 0.9922\n",
      "Epoch 11/100\n",
      "60000/60000 [==============================] - 4s 65us/sample - loss: 0.0238 - accuracy: 0.9922 - val_loss: 0.0283 - val_accuracy: 0.9923\n",
      "Epoch 12/100\n",
      "60000/60000 [==============================] - 4s 64us/sample - loss: 0.0219 - accuracy: 0.9932 - val_loss: 0.0307 - val_accuracy: 0.9921\n",
      "Epoch 13/100\n",
      "60000/60000 [==============================] - 4s 67us/sample - loss: 0.0196 - accuracy: 0.9935 - val_loss: 0.0284 - val_accuracy: 0.9925\n",
      "Epoch 14/100\n",
      "60000/60000 [==============================] - 4s 67us/sample - loss: 0.0207 - accuracy: 0.9933 - val_loss: 0.0265 - val_accuracy: 0.9923\n",
      "Epoch 15/100\n",
      "60000/60000 [==============================] - 4s 67us/sample - loss: 0.0199 - accuracy: 0.9938 - val_loss: 0.0322 - val_accuracy: 0.9919\n",
      "Epoch 16/100\n",
      "60000/60000 [==============================] - 4s 66us/sample - loss: 0.0187 - accuracy: 0.9939 - val_loss: 0.0265 - val_accuracy: 0.9935\n",
      "Epoch 17/100\n",
      "60000/60000 [==============================] - 4s 63us/sample - loss: 0.0178 - accuracy: 0.9944 - val_loss: 0.0270 - val_accuracy: 0.9936\n",
      "Epoch 18/100\n",
      "60000/60000 [==============================] - 4s 62us/sample - loss: 0.0151 - accuracy: 0.9949 - val_loss: 0.0283 - val_accuracy: 0.9926\n",
      "Epoch 19/100\n",
      "60000/60000 [==============================] - 4s 62us/sample - loss: 0.0137 - accuracy: 0.9954 - val_loss: 0.0300 - val_accuracy: 0.9922\n",
      "Epoch 20/100\n",
      "60000/60000 [==============================] - 4s 63us/sample - loss: 0.0140 - accuracy: 0.9953 - val_loss: 0.0299 - val_accuracy: 0.9922\n",
      "Epoch 21/100\n",
      "60000/60000 [==============================] - 4s 64us/sample - loss: 0.0148 - accuracy: 0.9948 - val_loss: 0.0291 - val_accuracy: 0.9925\n",
      "Epoch 22/100\n",
      "60000/60000 [==============================] - 4s 62us/sample - loss: 0.0148 - accuracy: 0.9952 - val_loss: 0.0277 - val_accuracy: 0.9933\n",
      "Epoch 23/100\n",
      "60000/60000 [==============================] - 4s 62us/sample - loss: 0.0128 - accuracy: 0.9956 - val_loss: 0.0283 - val_accuracy: 0.9923\n",
      "Epoch 24/100\n",
      "60000/60000 [==============================] - 4s 63us/sample - loss: 0.0115 - accuracy: 0.9961 - val_loss: 0.0348 - val_accuracy: 0.9924\n",
      "Epoch 25/100\n",
      "60000/60000 [==============================] - 4s 62us/sample - loss: 0.0124 - accuracy: 0.9959 - val_loss: 0.0350 - val_accuracy: 0.9920\n",
      "Epoch 26/100\n",
      "60000/60000 [==============================] - 4s 65us/sample - loss: 0.0107 - accuracy: 0.9962 - val_loss: 0.0300 - val_accuracy: 0.9927\n",
      "Epoch 27/100\n",
      "60000/60000 [==============================] - 4s 68us/sample - loss: 0.0115 - accuracy: 0.9963 - val_loss: 0.0340 - val_accuracy: 0.9922\n",
      "Epoch 28/100\n",
      "60000/60000 [==============================] - 4s 68us/sample - loss: 0.0113 - accuracy: 0.9964 - val_loss: 0.0328 - val_accuracy: 0.9927\n",
      "Epoch 29/100\n",
      "60000/60000 [==============================] - 4s 68us/sample - loss: 0.0114 - accuracy: 0.9961 - val_loss: 0.0369 - val_accuracy: 0.9933\n",
      "Epoch 30/100\n",
      "60000/60000 [==============================] - 4s 69us/sample - loss: 0.0094 - accuracy: 0.9968 - val_loss: 0.0293 - val_accuracy: 0.9932\n",
      "Epoch 31/100\n",
      "60000/60000 [==============================] - 4s 66us/sample - loss: 0.0113 - accuracy: 0.9962 - val_loss: 0.0332 - val_accuracy: 0.9930\n",
      "Epoch 32/100\n",
      "60000/60000 [==============================] - 4s 66us/sample - loss: 0.0095 - accuracy: 0.9969 - val_loss: 0.0369 - val_accuracy: 0.9921\n",
      "Epoch 33/100\n",
      "60000/60000 [==============================] - 4s 66us/sample - loss: 0.0100 - accuracy: 0.9967 - val_loss: 0.0337 - val_accuracy: 0.9936\n",
      "Epoch 34/100\n",
      "60000/60000 [==============================] - 4s 66us/sample - loss: 0.0093 - accuracy: 0.9969 - val_loss: 0.0314 - val_accuracy: 0.9931\n",
      "Epoch 35/100\n",
      "60000/60000 [==============================] - 4s 65us/sample - loss: 0.0093 - accuracy: 0.9967 - val_loss: 0.0335 - val_accuracy: 0.9937\n",
      "Epoch 36/100\n",
      "60000/60000 [==============================] - 4s 65us/sample - loss: 0.0094 - accuracy: 0.9971 - val_loss: 0.0337 - val_accuracy: 0.9929\n",
      "Epoch 37/100\n",
      "60000/60000 [==============================] - 4s 66us/sample - loss: 0.0080 - accuracy: 0.9971 - val_loss: 0.0324 - val_accuracy: 0.9926\n",
      "Epoch 38/100\n",
      "60000/60000 [==============================] - 4s 65us/sample - loss: 0.0078 - accuracy: 0.9974 - val_loss: 0.0358 - val_accuracy: 0.9934\n",
      "Epoch 39/100\n",
      "60000/60000 [==============================] - 4s 65us/sample - loss: 0.0094 - accuracy: 0.9967 - val_loss: 0.0325 - val_accuracy: 0.9927\n",
      "Epoch 40/100\n",
      "60000/60000 [==============================] - 4s 66us/sample - loss: 0.0084 - accuracy: 0.9969 - val_loss: 0.0333 - val_accuracy: 0.9935\n",
      "Epoch 41/100\n",
      "60000/60000 [==============================] - 4s 65us/sample - loss: 0.0082 - accuracy: 0.9971 - val_loss: 0.0343 - val_accuracy: 0.9934\n",
      "Epoch 42/100\n",
      "60000/60000 [==============================] - 4s 65us/sample - loss: 0.0089 - accuracy: 0.9970 - val_loss: 0.0339 - val_accuracy: 0.9928\n",
      "Epoch 43/100\n",
      "60000/60000 [==============================] - 4s 65us/sample - loss: 0.0072 - accuracy: 0.9974 - val_loss: 0.0362 - val_accuracy: 0.9932\n",
      "Epoch 44/100\n",
      "60000/60000 [==============================] - 4s 66us/sample - loss: 0.0078 - accuracy: 0.9974 - val_loss: 0.0360 - val_accuracy: 0.9931\n",
      "Epoch 45/100\n",
      "60000/60000 [==============================] - 4s 66us/sample - loss: 0.0071 - accuracy: 0.9976 - val_loss: 0.0361 - val_accuracy: 0.9919\n",
      "Epoch 46/100\n",
      "60000/60000 [==============================] - 4s 66us/sample - loss: 0.0071 - accuracy: 0.9975 - val_loss: 0.0337 - val_accuracy: 0.9930\n",
      "Epoch 47/100\n",
      "60000/60000 [==============================] - 5s 89us/sample - loss: 0.0076 - accuracy: 0.9976 - val_loss: 0.0324 - val_accuracy: 0.9931\n",
      "Epoch 48/100\n",
      "60000/60000 [==============================] - 4s 68us/sample - loss: 0.0079 - accuracy: 0.9977 - val_loss: 0.0408 - val_accuracy: 0.9928\n",
      "Epoch 49/100\n",
      "60000/60000 [==============================] - 4s 68us/sample - loss: 0.0061 - accuracy: 0.9980 - val_loss: 0.0386 - val_accuracy: 0.9929\n",
      "Epoch 50/100\n",
      "60000/60000 [==============================] - 4s 70us/sample - loss: 0.0070 - accuracy: 0.9978 - val_loss: 0.0338 - val_accuracy: 0.9935\n",
      "Epoch 51/100\n",
      "60000/60000 [==============================] - 4s 67us/sample - loss: 0.0066 - accuracy: 0.9976 - val_loss: 0.0366 - val_accuracy: 0.9933\n",
      "Epoch 52/100\n",
      "60000/60000 [==============================] - 4s 70us/sample - loss: 0.0073 - accuracy: 0.9978 - val_loss: 0.0360 - val_accuracy: 0.9935\n",
      "Epoch 53/100\n",
      "60000/60000 [==============================] - 4s 71us/sample - loss: 0.0079 - accuracy: 0.9973 - val_loss: 0.0421 - val_accuracy: 0.9927\n",
      "Epoch 54/100\n",
      "60000/60000 [==============================] - 4s 70us/sample - loss: 0.0059 - accuracy: 0.9978 - val_loss: 0.0382 - val_accuracy: 0.9930\n"
     ]
    },
    {
     "name": "stdout",
     "output_type": "stream",
     "text": [
      "Epoch 55/100\n",
      "60000/60000 [==============================] - 4s 67us/sample - loss: 0.0072 - accuracy: 0.9977 - val_loss: 0.0362 - val_accuracy: 0.9929\n",
      "Epoch 56/100\n",
      "60000/60000 [==============================] - 4s 67us/sample - loss: 0.0059 - accuracy: 0.9979 - val_loss: 0.0356 - val_accuracy: 0.9920\n",
      "Epoch 57/100\n",
      "60000/60000 [==============================] - 4s 68us/sample - loss: 0.0070 - accuracy: 0.9977 - val_loss: 0.0369 - val_accuracy: 0.9924\n",
      "Epoch 58/100\n",
      "60000/60000 [==============================] - 4s 67us/sample - loss: 0.0056 - accuracy: 0.9981 - val_loss: 0.0408 - val_accuracy: 0.9932\n",
      "Epoch 59/100\n",
      "60000/60000 [==============================] - 4s 68us/sample - loss: 0.0073 - accuracy: 0.9976 - val_loss: 0.0367 - val_accuracy: 0.9923\n",
      "Epoch 60/100\n",
      "60000/60000 [==============================] - 4s 71us/sample - loss: 0.0065 - accuracy: 0.9977 - val_loss: 0.0397 - val_accuracy: 0.9928\n",
      "Epoch 61/100\n",
      "60000/60000 [==============================] - 4s 73us/sample - loss: 0.0067 - accuracy: 0.9979 - val_loss: 0.0374 - val_accuracy: 0.9932\n",
      "Epoch 62/100\n",
      "60000/60000 [==============================] - 4s 72us/sample - loss: 0.0055 - accuracy: 0.9984 - val_loss: 0.0407 - val_accuracy: 0.9933\n",
      "Epoch 63/100\n",
      "60000/60000 [==============================] - 4s 70us/sample - loss: 0.0067 - accuracy: 0.9976 - val_loss: 0.0387 - val_accuracy: 0.9930\n",
      "Epoch 64/100\n",
      "60000/60000 [==============================] - 4s 68us/sample - loss: 0.0051 - accuracy: 0.9982 - val_loss: 0.0384 - val_accuracy: 0.9926\n",
      "Epoch 65/100\n",
      "60000/60000 [==============================] - 4s 68us/sample - loss: 0.0060 - accuracy: 0.9983 - val_loss: 0.0371 - val_accuracy: 0.9934\n",
      "Epoch 66/100\n",
      "60000/60000 [==============================] - 4s 69us/sample - loss: 0.0063 - accuracy: 0.9981 - val_loss: 0.0386 - val_accuracy: 0.9933\n",
      "Epoch 67/100\n",
      "60000/60000 [==============================] - 4s 69us/sample - loss: 0.0055 - accuracy: 0.9980 - val_loss: 0.0393 - val_accuracy: 0.9933\n",
      "Epoch 68/100\n",
      "60000/60000 [==============================] - 4s 69us/sample - loss: 0.0064 - accuracy: 0.9977 - val_loss: 0.0390 - val_accuracy: 0.9936\n",
      "Epoch 69/100\n",
      "60000/60000 [==============================] - 4s 71us/sample - loss: 0.0062 - accuracy: 0.9980 - val_loss: 0.0398 - val_accuracy: 0.9931\n",
      "Epoch 70/100\n",
      "60000/60000 [==============================] - 4s 68us/sample - loss: 0.0054 - accuracy: 0.9982 - val_loss: 0.0395 - val_accuracy: 0.9945\n",
      "Epoch 71/100\n",
      "60000/60000 [==============================] - 4s 67us/sample - loss: 0.0068 - accuracy: 0.9977 - val_loss: 0.0392 - val_accuracy: 0.9940\n",
      "Epoch 72/100\n",
      "60000/60000 [==============================] - 4s 68us/sample - loss: 0.0062 - accuracy: 0.9981 - val_loss: 0.0414 - val_accuracy: 0.9935\n",
      "Epoch 73/100\n",
      "60000/60000 [==============================] - 4s 69us/sample - loss: 0.0058 - accuracy: 0.9980 - val_loss: 0.0414 - val_accuracy: 0.9929\n",
      "Epoch 74/100\n",
      "60000/60000 [==============================] - 4s 69us/sample - loss: 0.0041 - accuracy: 0.9985 - val_loss: 0.0487 - val_accuracy: 0.9933\n",
      "Epoch 75/100\n",
      "60000/60000 [==============================] - 4s 70us/sample - loss: 0.0065 - accuracy: 0.9979 - val_loss: 0.0409 - val_accuracy: 0.9938\n",
      "Epoch 76/100\n",
      "60000/60000 [==============================] - 4s 69us/sample - loss: 0.0054 - accuracy: 0.9983 - val_loss: 0.0417 - val_accuracy: 0.9931\n",
      "Epoch 77/100\n",
      "60000/60000 [==============================] - 4s 70us/sample - loss: 0.0042 - accuracy: 0.9985 - val_loss: 0.0473 - val_accuracy: 0.9934\n",
      "Epoch 78/100\n",
      "60000/60000 [==============================] - 4s 69us/sample - loss: 0.0059 - accuracy: 0.9982 - val_loss: 0.0439 - val_accuracy: 0.9937\n",
      "Epoch 79/100\n",
      "60000/60000 [==============================] - 4s 67us/sample - loss: 0.0049 - accuracy: 0.9983 - val_loss: 0.0474 - val_accuracy: 0.9932\n",
      "Epoch 80/100\n",
      "60000/60000 [==============================] - 4s 66us/sample - loss: 0.0053 - accuracy: 0.9984 - val_loss: 0.0455 - val_accuracy: 0.9928\n",
      "Epoch 81/100\n",
      "60000/60000 [==============================] - 4s 67us/sample - loss: 0.0045 - accuracy: 0.9986 - val_loss: 0.0469 - val_accuracy: 0.9930\n",
      "Epoch 82/100\n",
      "60000/60000 [==============================] - 4s 67us/sample - loss: 0.0039 - accuracy: 0.9987 - val_loss: 0.0489 - val_accuracy: 0.9930\n",
      "Epoch 83/100\n",
      "60000/60000 [==============================] - 4s 66us/sample - loss: 0.0046 - accuracy: 0.9985 - val_loss: 0.0410 - val_accuracy: 0.9935\n",
      "Epoch 84/100\n",
      "60000/60000 [==============================] - 4s 68us/sample - loss: 0.0041 - accuracy: 0.9985 - val_loss: 0.0528 - val_accuracy: 0.9925\n",
      "Epoch 85/100\n",
      "60000/60000 [==============================] - 4s 69us/sample - loss: 0.0057 - accuracy: 0.9979 - val_loss: 0.0497 - val_accuracy: 0.9933\n",
      "Epoch 86/100\n",
      "60000/60000 [==============================] - 4s 67us/sample - loss: 0.0058 - accuracy: 0.9981 - val_loss: 0.0502 - val_accuracy: 0.9925\n",
      "Epoch 87/100\n",
      "60000/60000 [==============================] - 4s 68us/sample - loss: 0.0048 - accuracy: 0.9984 - val_loss: 0.0449 - val_accuracy: 0.9933\n",
      "Epoch 88/100\n",
      "60000/60000 [==============================] - 4s 67us/sample - loss: 0.0056 - accuracy: 0.9984 - val_loss: 0.0400 - val_accuracy: 0.9938\n",
      "Epoch 89/100\n",
      "60000/60000 [==============================] - 4s 71us/sample - loss: 0.0050 - accuracy: 0.9983 - val_loss: 0.0447 - val_accuracy: 0.9934\n",
      "Epoch 90/100\n",
      "60000/60000 [==============================] - 4s 73us/sample - loss: 0.0053 - accuracy: 0.9984 - val_loss: 0.0387 - val_accuracy: 0.9936\n",
      "Epoch 91/100\n",
      "60000/60000 [==============================] - 4s 74us/sample - loss: 0.0039 - accuracy: 0.9987 - val_loss: 0.0432 - val_accuracy: 0.9941\n",
      "Epoch 92/100\n",
      "60000/60000 [==============================] - 5s 76us/sample - loss: 0.0056 - accuracy: 0.9982 - val_loss: 0.0414 - val_accuracy: 0.9942\n",
      "Epoch 93/100\n",
      "60000/60000 [==============================] - 4s 69us/sample - loss: 0.0042 - accuracy: 0.9986 - val_loss: 0.0436 - val_accuracy: 0.9941\n",
      "Epoch 94/100\n",
      "60000/60000 [==============================] - 4s 70us/sample - loss: 0.0042 - accuracy: 0.9984 - val_loss: 0.0467 - val_accuracy: 0.9946\n",
      "Epoch 95/100\n",
      "60000/60000 [==============================] - 4s 72us/sample - loss: 0.0057 - accuracy: 0.9984 - val_loss: 0.0390 - val_accuracy: 0.9943\n",
      "Epoch 96/100\n",
      "60000/60000 [==============================] - 4s 73us/sample - loss: 0.0048 - accuracy: 0.9985 - val_loss: 0.0442 - val_accuracy: 0.9936\n",
      "Epoch 97/100\n",
      "60000/60000 [==============================] - 5s 75us/sample - loss: 0.0049 - accuracy: 0.9984 - val_loss: 0.0429 - val_accuracy: 0.9938\n",
      "Epoch 98/100\n",
      "60000/60000 [==============================] - 4s 71us/sample - loss: 0.0051 - accuracy: 0.9983 - val_loss: 0.0485 - val_accuracy: 0.9931\n",
      "Epoch 99/100\n",
      "60000/60000 [==============================] - 4s 71us/sample - loss: 0.0040 - accuracy: 0.9987 - val_loss: 0.0489 - val_accuracy: 0.9933\n",
      "Epoch 100/100\n",
      "60000/60000 [==============================] - 4s 72us/sample - loss: 0.0046 - accuracy: 0.9987 - val_loss: 0.0448 - val_accuracy: 0.9939\n",
      "Training took 408.54383158683777 seconds\n"
     ]
    }
   ],
   "source": [
    "import time\n",
    "\n",
    "start_time=time.time()\n",
    "\n",
    "model.fit(train_images, train_labels, batch_size=128, epochs=100, verbose=1,\n",
    "         validation_data=(test_images, test_labels))\n",
    "\n",
    "print('Training took {} seconds'.format(time.time()-start_time))"
   ]
  },
  {
   "cell_type": "code",
   "execution_count": 28,
   "metadata": {},
   "outputs": [
    {
     "name": "stdout",
     "output_type": "stream",
     "text": [
      "For 100 epochs Training took 1542.29833650589 seconds\n"
     ]
    }
   ],
   "source": [
    "#for 100 epochs\n",
    "\n",
    "print('For 100 epochs Training took {} seconds'.format(time.time()-start_time))"
   ]
  },
  {
   "cell_type": "code",
   "execution_count": null,
   "metadata": {},
   "outputs": [],
   "source": []
  }
 ],
 "metadata": {
  "kernelspec": {
   "display_name": "TensorFlow-GPU",
   "language": "python",
   "name": "tf-gpu"
  },
  "language_info": {
   "codemirror_mode": {
    "name": "ipython",
    "version": 3
   },
   "file_extension": ".py",
   "mimetype": "text/x-python",
   "name": "python",
   "nbconvert_exporter": "python",
   "pygments_lexer": "ipython3",
   "version": "3.7.7"
  }
 },
 "nbformat": 4,
 "nbformat_minor": 4
}
