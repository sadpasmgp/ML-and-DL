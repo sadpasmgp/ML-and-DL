{
 "cells": [
  {
   "cell_type": "markdown",
   "metadata": {},
   "source": [
    "###### Mushroom Classification"
   ]
  },
  {
   "cell_type": "markdown",
   "metadata": {},
   "source": [
    "Abstract: From Audobon Society Field Guide; mushrooms described in terms of physical characteristics; classification: poisonous or edible\n",
    "\t"
   ]
  },
  {
   "cell_type": "markdown",
   "metadata": {},
   "source": [
    "Source:\n",
    "\n",
    "Origin:\n",
    "\n",
    "Mushroom records drawn from The Audubon Society Field Guide to North American Mushrooms (1981). G. H. Lincoff (Pres.), New York: Alfred A. Knopf\n",
    "\n",
    "Donor:\n",
    "\n",
    "Jeff Schlimmer (Jeffrey.Schlimmer '@' a.gp.cs.cmu.edu)"
   ]
  },
  {
   "cell_type": "markdown",
   "metadata": {},
   "source": [
    "Data Set Information:\n",
    "\n",
    "This data set includes descriptions of hypothetical samples corresponding to 23 species of gilled mushrooms in the Agaricus and Lepiota Family (pp. 500-525). Each species is identified as definitely edible, definitely poisonous, or of unknown edibility and not recommended. This latter class was combined with the poisonous one. The Guide clearly states that there is no simple rule for determining the edibility of a mushroom; no rule like ``leaflets three, let it be'' for Poisonous Oak and Ivy.\n"
   ]
  },
  {
   "cell_type": "markdown",
   "metadata": {},
   "source": [
    "Attribute Information:\n",
    "\n",
    "1. cap-shape: bell=b,conical=c,convex=x,flat=f, knobbed=k,sunken=s\n",
    "2. cap-surface: fibrous=f,grooves=g,scaly=y,smooth=s\n",
    "3. cap-color: brown=n,buff=b,cinnamon=c,gray=g,green=r, pink=p,purple=u,red=e,white=w,yellow=y\n",
    "4. bruises?: bruises=t,no=f\n",
    "5. odor: almond=a,anise=l,creosote=c,fishy=y,foul=f, musty=m,none=n,pungent=p,spicy=s\n",
    "6. gill-attachment: attached=a,descending=d,free=f,notched=n\n",
    "7. gill-spacing: close=c,crowded=w,distant=d\n",
    "8. gill-size: broad=b,narrow=n\n",
    "9. gill-color: black=k,brown=n,buff=b,chocolate=h,gray=g, green=r,orange=o,pink=p,purple=u,red=e, white=w,yellow=y\n",
    "10. stalk-shape: enlarging=e,tapering=t\n",
    "11. stalk-root: bulbous=b,club=c,cup=u,equal=e, rhizomorphs=z,rooted=r,missing=?\n",
    "12. stalk-surface-above-ring: fibrous=f,scaly=y,silky=k,smooth=s\n",
    "13. stalk-surface-below-ring: fibrous=f,scaly=y,silky=k,smooth=s\n",
    "14. stalk-color-above-ring: brown=n,buff=b,cinnamon=c,gray=g,orange=o, pink=p,red=e,white=w,yellow=y\n",
    "15. stalk-color-below-ring: brown=n,buff=b,cinnamon=c,gray=g,orange=o, pink=p,red=e,white=w,yellow=y\n",
    "16. veil-type: partial=p,universal=u\n",
    "17. veil-color: brown=n,orange=o,white=w,yellow=y\n",
    "18. ring-number: none=n,one=o,two=t\n",
    "19. ring-type: cobwebby=c,evanescent=e,flaring=f,large=l, none=n,pendant=p,sheathing=s,zone=z\n",
    "20. spore-print-color: black=k,brown=n,buff=b,chocolate=h,green=r, orange=o,purple=u,white=w,yellow=y\n",
    "21. population: abundant=a,clustered=c,numerous=n, scattered=s,several=v,solitary=y\n",
    "22. habitat: grasses=g,leaves=l,meadows=m,paths=p, urban=u,waste=w,woods=d\n"
   ]
  },
  {
   "cell_type": "markdown",
   "metadata": {},
   "source": [
    "Data is taken from -  https://archive.ics.uci.edu/ml/datasets/Mushroom"
   ]
  },
  {
   "cell_type": "markdown",
   "metadata": {},
   "source": [
    "Let us import libraries and import the dataset and then view the content of the data"
   ]
  },
  {
   "cell_type": "markdown",
   "metadata": {},
   "source": [
    "we will apply 6 supervised machine learning classification models and an ANN model on the given dataset to classify mushrooms as poisonous or eatable.\n",
    "\n",
    "    Logistic Regression\n",
    "    Support Vector machines (SVC)\n",
    "    K-Nearest Neighbours(K-NN)\n",
    "    Naive Bayes classifier\n",
    "    Decision Tree Classifier\n",
    "    Random Forest Classifier\n",
    "    Artificial Neural Networks\n",
    "\n",
    "we proceed by converting categorical variables into dummy/indicator variables, then reducing dimensions using Princple Component Analysis to reduce 23 categorical variables (which will become 95 variables after conversion) to only 2 variables (Principle Components) and training different classification models over these two principle components. Finally, we visualize the outputs so that decision boundaries of different models can be seen in 2D-plane. Here the preference is not given to accuracy as the goal is to visualize the decision boundaries. For greater accuracy one can choose more than two variables."
   ]
  },
  {
   "cell_type": "code",
   "execution_count": 1,
   "metadata": {},
   "outputs": [],
   "source": [
    "#importing libraries\n",
    "\n",
    "import numpy as np\n",
    "import pandas as pd\n",
    "import matplotlib.pyplot as plt\n",
    "import seaborn as sns"
   ]
  },
  {
   "cell_type": "code",
   "execution_count": 6,
   "metadata": {},
   "outputs": [],
   "source": [
    "mushrooms = pd.read_csv(r'Mushrooms.csv.csv')"
   ]
  },
  {
   "cell_type": "code",
   "execution_count": 4,
   "metadata": {},
   "outputs": [
    {
     "data": {
      "text/html": [
       "<div>\n",
       "<style scoped>\n",
       "    .dataframe tbody tr th:only-of-type {\n",
       "        vertical-align: middle;\n",
       "    }\n",
       "\n",
       "    .dataframe tbody tr th {\n",
       "        vertical-align: top;\n",
       "    }\n",
       "\n",
       "    .dataframe thead th {\n",
       "        text-align: right;\n",
       "    }\n",
       "</style>\n",
       "<table border=\"1\" class=\"dataframe\">\n",
       "  <thead>\n",
       "    <tr style=\"text-align: right;\">\n",
       "      <th></th>\n",
       "      <th>class</th>\n",
       "      <th>cap-shape</th>\n",
       "      <th>cap-surface</th>\n",
       "      <th>cap-color</th>\n",
       "      <th>bruises</th>\n",
       "      <th>odor</th>\n",
       "      <th>gill-attachment</th>\n",
       "      <th>gill-spacing</th>\n",
       "      <th>gill-size</th>\n",
       "      <th>gill-color</th>\n",
       "      <th>...</th>\n",
       "      <th>stalk-surface-below-ring</th>\n",
       "      <th>stalk-color-above-ring</th>\n",
       "      <th>stalk-color-below-ring</th>\n",
       "      <th>veil-type</th>\n",
       "      <th>veil-color</th>\n",
       "      <th>ring-number</th>\n",
       "      <th>ring-type</th>\n",
       "      <th>spore-print-color</th>\n",
       "      <th>population</th>\n",
       "      <th>habitat</th>\n",
       "    </tr>\n",
       "  </thead>\n",
       "  <tbody>\n",
       "    <tr>\n",
       "      <th>0</th>\n",
       "      <td>p</td>\n",
       "      <td>x</td>\n",
       "      <td>s</td>\n",
       "      <td>n</td>\n",
       "      <td>t</td>\n",
       "      <td>p</td>\n",
       "      <td>f</td>\n",
       "      <td>c</td>\n",
       "      <td>n</td>\n",
       "      <td>k</td>\n",
       "      <td>...</td>\n",
       "      <td>s</td>\n",
       "      <td>w</td>\n",
       "      <td>w</td>\n",
       "      <td>p</td>\n",
       "      <td>w</td>\n",
       "      <td>o</td>\n",
       "      <td>p</td>\n",
       "      <td>k</td>\n",
       "      <td>s</td>\n",
       "      <td>u</td>\n",
       "    </tr>\n",
       "    <tr>\n",
       "      <th>1</th>\n",
       "      <td>e</td>\n",
       "      <td>x</td>\n",
       "      <td>s</td>\n",
       "      <td>y</td>\n",
       "      <td>t</td>\n",
       "      <td>a</td>\n",
       "      <td>f</td>\n",
       "      <td>c</td>\n",
       "      <td>b</td>\n",
       "      <td>k</td>\n",
       "      <td>...</td>\n",
       "      <td>s</td>\n",
       "      <td>w</td>\n",
       "      <td>w</td>\n",
       "      <td>p</td>\n",
       "      <td>w</td>\n",
       "      <td>o</td>\n",
       "      <td>p</td>\n",
       "      <td>n</td>\n",
       "      <td>n</td>\n",
       "      <td>g</td>\n",
       "    </tr>\n",
       "    <tr>\n",
       "      <th>2</th>\n",
       "      <td>e</td>\n",
       "      <td>b</td>\n",
       "      <td>s</td>\n",
       "      <td>w</td>\n",
       "      <td>t</td>\n",
       "      <td>l</td>\n",
       "      <td>f</td>\n",
       "      <td>c</td>\n",
       "      <td>b</td>\n",
       "      <td>n</td>\n",
       "      <td>...</td>\n",
       "      <td>s</td>\n",
       "      <td>w</td>\n",
       "      <td>w</td>\n",
       "      <td>p</td>\n",
       "      <td>w</td>\n",
       "      <td>o</td>\n",
       "      <td>p</td>\n",
       "      <td>n</td>\n",
       "      <td>n</td>\n",
       "      <td>m</td>\n",
       "    </tr>\n",
       "    <tr>\n",
       "      <th>3</th>\n",
       "      <td>p</td>\n",
       "      <td>x</td>\n",
       "      <td>y</td>\n",
       "      <td>w</td>\n",
       "      <td>t</td>\n",
       "      <td>p</td>\n",
       "      <td>f</td>\n",
       "      <td>c</td>\n",
       "      <td>n</td>\n",
       "      <td>n</td>\n",
       "      <td>...</td>\n",
       "      <td>s</td>\n",
       "      <td>w</td>\n",
       "      <td>w</td>\n",
       "      <td>p</td>\n",
       "      <td>w</td>\n",
       "      <td>o</td>\n",
       "      <td>p</td>\n",
       "      <td>k</td>\n",
       "      <td>s</td>\n",
       "      <td>u</td>\n",
       "    </tr>\n",
       "    <tr>\n",
       "      <th>4</th>\n",
       "      <td>e</td>\n",
       "      <td>x</td>\n",
       "      <td>s</td>\n",
       "      <td>g</td>\n",
       "      <td>f</td>\n",
       "      <td>n</td>\n",
       "      <td>f</td>\n",
       "      <td>w</td>\n",
       "      <td>b</td>\n",
       "      <td>k</td>\n",
       "      <td>...</td>\n",
       "      <td>s</td>\n",
       "      <td>w</td>\n",
       "      <td>w</td>\n",
       "      <td>p</td>\n",
       "      <td>w</td>\n",
       "      <td>o</td>\n",
       "      <td>e</td>\n",
       "      <td>n</td>\n",
       "      <td>a</td>\n",
       "      <td>g</td>\n",
       "    </tr>\n",
       "  </tbody>\n",
       "</table>\n",
       "<p>5 rows × 23 columns</p>\n",
       "</div>"
      ],
      "text/plain": [
       "  class cap-shape cap-surface cap-color bruises odor gill-attachment  \\\n",
       "0     p         x           s         n       t    p               f   \n",
       "1     e         x           s         y       t    a               f   \n",
       "2     e         b           s         w       t    l               f   \n",
       "3     p         x           y         w       t    p               f   \n",
       "4     e         x           s         g       f    n               f   \n",
       "\n",
       "  gill-spacing gill-size gill-color  ... stalk-surface-below-ring  \\\n",
       "0            c         n          k  ...                        s   \n",
       "1            c         b          k  ...                        s   \n",
       "2            c         b          n  ...                        s   \n",
       "3            c         n          n  ...                        s   \n",
       "4            w         b          k  ...                        s   \n",
       "\n",
       "  stalk-color-above-ring stalk-color-below-ring veil-type veil-color  \\\n",
       "0                      w                      w         p          w   \n",
       "1                      w                      w         p          w   \n",
       "2                      w                      w         p          w   \n",
       "3                      w                      w         p          w   \n",
       "4                      w                      w         p          w   \n",
       "\n",
       "  ring-number ring-type spore-print-color population habitat  \n",
       "0           o         p                 k          s       u  \n",
       "1           o         p                 n          n       g  \n",
       "2           o         p                 n          n       m  \n",
       "3           o         p                 k          s       u  \n",
       "4           o         e                 n          a       g  \n",
       "\n",
       "[5 rows x 23 columns]"
      ]
     },
     "execution_count": 4,
     "metadata": {},
     "output_type": "execute_result"
    }
   ],
   "source": [
    "mushrooms.head()"
   ]
  },
  {
   "cell_type": "code",
   "execution_count": 14,
   "metadata": {},
   "outputs": [
    {
     "name": "stdout",
     "output_type": "stream",
     "text": [
      "<class 'pandas.core.frame.DataFrame'>\n",
      "RangeIndex: 8124 entries, 0 to 8123\n",
      "Data columns (total 23 columns):\n",
      " #   Column                    Non-Null Count  Dtype \n",
      "---  ------                    --------------  ----- \n",
      " 0   class                     8124 non-null   object\n",
      " 1   cap-shape                 8124 non-null   object\n",
      " 2   cap-surface               8124 non-null   object\n",
      " 3   cap-color                 8124 non-null   object\n",
      " 4   bruises                   8124 non-null   object\n",
      " 5   odor                      8124 non-null   object\n",
      " 6   gill-attachment           8124 non-null   object\n",
      " 7   gill-spacing              8124 non-null   object\n",
      " 8   gill-size                 8124 non-null   object\n",
      " 9   gill-color                8124 non-null   object\n",
      " 10  stalk-shape               8124 non-null   object\n",
      " 11  stalk-root                8124 non-null   object\n",
      " 12  stalk-surface-above-ring  8124 non-null   object\n",
      " 13  stalk-surface-below-ring  8124 non-null   object\n",
      " 14  stalk-color-above-ring    8124 non-null   object\n",
      " 15  stalk-color-below-ring    8124 non-null   object\n",
      " 16  veil-type                 8124 non-null   object\n",
      " 17  veil-color                8124 non-null   object\n",
      " 18  ring-number               8124 non-null   object\n",
      " 19  ring-type                 8124 non-null   object\n",
      " 20  spore-print-color         8124 non-null   object\n",
      " 21  population                8124 non-null   object\n",
      " 22  habitat                   8124 non-null   object\n",
      "dtypes: object(23)\n",
      "memory usage: 1.4+ MB\n"
     ]
    }
   ],
   "source": [
    "mushrooms.info()"
   ]
  },
  {
   "cell_type": "code",
   "execution_count": 15,
   "metadata": {},
   "outputs": [
    {
     "data": {
      "text/html": [
       "<div>\n",
       "<style scoped>\n",
       "    .dataframe tbody tr th:only-of-type {\n",
       "        vertical-align: middle;\n",
       "    }\n",
       "\n",
       "    .dataframe tbody tr th {\n",
       "        vertical-align: top;\n",
       "    }\n",
       "\n",
       "    .dataframe thead th {\n",
       "        text-align: right;\n",
       "    }\n",
       "</style>\n",
       "<table border=\"1\" class=\"dataframe\">\n",
       "  <thead>\n",
       "    <tr style=\"text-align: right;\">\n",
       "      <th></th>\n",
       "      <th>class</th>\n",
       "      <th>cap-shape</th>\n",
       "      <th>cap-surface</th>\n",
       "      <th>cap-color</th>\n",
       "      <th>bruises</th>\n",
       "      <th>odor</th>\n",
       "      <th>gill-attachment</th>\n",
       "      <th>gill-spacing</th>\n",
       "      <th>gill-size</th>\n",
       "      <th>gill-color</th>\n",
       "      <th>...</th>\n",
       "      <th>stalk-surface-below-ring</th>\n",
       "      <th>stalk-color-above-ring</th>\n",
       "      <th>stalk-color-below-ring</th>\n",
       "      <th>veil-type</th>\n",
       "      <th>veil-color</th>\n",
       "      <th>ring-number</th>\n",
       "      <th>ring-type</th>\n",
       "      <th>spore-print-color</th>\n",
       "      <th>population</th>\n",
       "      <th>habitat</th>\n",
       "    </tr>\n",
       "  </thead>\n",
       "  <tbody>\n",
       "    <tr>\n",
       "      <th>count</th>\n",
       "      <td>8124</td>\n",
       "      <td>8124</td>\n",
       "      <td>8124</td>\n",
       "      <td>8124</td>\n",
       "      <td>8124</td>\n",
       "      <td>8124</td>\n",
       "      <td>8124</td>\n",
       "      <td>8124</td>\n",
       "      <td>8124</td>\n",
       "      <td>8124</td>\n",
       "      <td>...</td>\n",
       "      <td>8124</td>\n",
       "      <td>8124</td>\n",
       "      <td>8124</td>\n",
       "      <td>8124</td>\n",
       "      <td>8124</td>\n",
       "      <td>8124</td>\n",
       "      <td>8124</td>\n",
       "      <td>8124</td>\n",
       "      <td>8124</td>\n",
       "      <td>8124</td>\n",
       "    </tr>\n",
       "    <tr>\n",
       "      <th>unique</th>\n",
       "      <td>2</td>\n",
       "      <td>6</td>\n",
       "      <td>4</td>\n",
       "      <td>10</td>\n",
       "      <td>2</td>\n",
       "      <td>9</td>\n",
       "      <td>2</td>\n",
       "      <td>2</td>\n",
       "      <td>2</td>\n",
       "      <td>12</td>\n",
       "      <td>...</td>\n",
       "      <td>4</td>\n",
       "      <td>9</td>\n",
       "      <td>9</td>\n",
       "      <td>1</td>\n",
       "      <td>4</td>\n",
       "      <td>3</td>\n",
       "      <td>5</td>\n",
       "      <td>9</td>\n",
       "      <td>6</td>\n",
       "      <td>7</td>\n",
       "    </tr>\n",
       "    <tr>\n",
       "      <th>top</th>\n",
       "      <td>e</td>\n",
       "      <td>x</td>\n",
       "      <td>y</td>\n",
       "      <td>n</td>\n",
       "      <td>f</td>\n",
       "      <td>n</td>\n",
       "      <td>f</td>\n",
       "      <td>c</td>\n",
       "      <td>b</td>\n",
       "      <td>b</td>\n",
       "      <td>...</td>\n",
       "      <td>s</td>\n",
       "      <td>w</td>\n",
       "      <td>w</td>\n",
       "      <td>p</td>\n",
       "      <td>w</td>\n",
       "      <td>o</td>\n",
       "      <td>p</td>\n",
       "      <td>w</td>\n",
       "      <td>v</td>\n",
       "      <td>d</td>\n",
       "    </tr>\n",
       "    <tr>\n",
       "      <th>freq</th>\n",
       "      <td>4208</td>\n",
       "      <td>3656</td>\n",
       "      <td>3244</td>\n",
       "      <td>2284</td>\n",
       "      <td>4748</td>\n",
       "      <td>3528</td>\n",
       "      <td>7914</td>\n",
       "      <td>6812</td>\n",
       "      <td>5612</td>\n",
       "      <td>1728</td>\n",
       "      <td>...</td>\n",
       "      <td>4936</td>\n",
       "      <td>4464</td>\n",
       "      <td>4384</td>\n",
       "      <td>8124</td>\n",
       "      <td>7924</td>\n",
       "      <td>7488</td>\n",
       "      <td>3968</td>\n",
       "      <td>2388</td>\n",
       "      <td>4040</td>\n",
       "      <td>3148</td>\n",
       "    </tr>\n",
       "  </tbody>\n",
       "</table>\n",
       "<p>4 rows × 23 columns</p>\n",
       "</div>"
      ],
      "text/plain": [
       "       class cap-shape cap-surface cap-color bruises  odor gill-attachment  \\\n",
       "count   8124      8124        8124      8124    8124  8124            8124   \n",
       "unique     2         6           4        10       2     9               2   \n",
       "top        e         x           y         n       f     n               f   \n",
       "freq    4208      3656        3244      2284    4748  3528            7914   \n",
       "\n",
       "       gill-spacing gill-size gill-color  ... stalk-surface-below-ring  \\\n",
       "count          8124      8124       8124  ...                     8124   \n",
       "unique            2         2         12  ...                        4   \n",
       "top               c         b          b  ...                        s   \n",
       "freq           6812      5612       1728  ...                     4936   \n",
       "\n",
       "       stalk-color-above-ring stalk-color-below-ring veil-type veil-color  \\\n",
       "count                    8124                   8124      8124       8124   \n",
       "unique                      9                      9         1          4   \n",
       "top                         w                      w         p          w   \n",
       "freq                     4464                   4384      8124       7924   \n",
       "\n",
       "       ring-number ring-type spore-print-color population habitat  \n",
       "count         8124      8124              8124       8124    8124  \n",
       "unique           3         5                 9          6       7  \n",
       "top              o         p                 w          v       d  \n",
       "freq          7488      3968              2388       4040    3148  \n",
       "\n",
       "[4 rows x 23 columns]"
      ]
     },
     "execution_count": 15,
     "metadata": {},
     "output_type": "execute_result"
    }
   ],
   "source": [
    "mushrooms.describe()"
   ]
  },
  {
   "cell_type": "markdown",
   "metadata": {},
   "source": [
    "class column is response and reset columns are predictors"
   ]
  },
  {
   "cell_type": "code",
   "execution_count": 16,
   "metadata": {},
   "outputs": [],
   "source": [
    "X = mushrooms.drop('class', axis=1) #predictors\n",
    "y = mushrooms['class']\n"
   ]
  },
  {
   "cell_type": "markdown",
   "metadata": {},
   "source": [
    "As we see dtypes of all columns are object, which means the data is competely categorical. we will have to convert that categorical data into numerical."
   ]
  },
  {
   "cell_type": "code",
   "execution_count": 19,
   "metadata": {},
   "outputs": [],
   "source": [
    "from sklearn.preprocessing import LabelEncoder\n",
    "Encoder = LabelEncoder()\n",
    "for col in X.columns:\n",
    "    X[col] = Encoder.fit_transform(X[col])\n",
    "y = Encoder.fit_transform(y)"
   ]
  },
  {
   "cell_type": "code",
   "execution_count": 20,
   "metadata": {},
   "outputs": [
    {
     "data": {
      "text/html": [
       "<div>\n",
       "<style scoped>\n",
       "    .dataframe tbody tr th:only-of-type {\n",
       "        vertical-align: middle;\n",
       "    }\n",
       "\n",
       "    .dataframe tbody tr th {\n",
       "        vertical-align: top;\n",
       "    }\n",
       "\n",
       "    .dataframe thead th {\n",
       "        text-align: right;\n",
       "    }\n",
       "</style>\n",
       "<table border=\"1\" class=\"dataframe\">\n",
       "  <thead>\n",
       "    <tr style=\"text-align: right;\">\n",
       "      <th></th>\n",
       "      <th>cap-shape</th>\n",
       "      <th>cap-surface</th>\n",
       "      <th>cap-color</th>\n",
       "      <th>bruises</th>\n",
       "      <th>odor</th>\n",
       "      <th>gill-attachment</th>\n",
       "      <th>gill-spacing</th>\n",
       "      <th>gill-size</th>\n",
       "      <th>gill-color</th>\n",
       "      <th>stalk-shape</th>\n",
       "      <th>...</th>\n",
       "      <th>stalk-surface-below-ring</th>\n",
       "      <th>stalk-color-above-ring</th>\n",
       "      <th>stalk-color-below-ring</th>\n",
       "      <th>veil-type</th>\n",
       "      <th>veil-color</th>\n",
       "      <th>ring-number</th>\n",
       "      <th>ring-type</th>\n",
       "      <th>spore-print-color</th>\n",
       "      <th>population</th>\n",
       "      <th>habitat</th>\n",
       "    </tr>\n",
       "  </thead>\n",
       "  <tbody>\n",
       "    <tr>\n",
       "      <th>0</th>\n",
       "      <td>5</td>\n",
       "      <td>2</td>\n",
       "      <td>4</td>\n",
       "      <td>1</td>\n",
       "      <td>6</td>\n",
       "      <td>1</td>\n",
       "      <td>0</td>\n",
       "      <td>1</td>\n",
       "      <td>4</td>\n",
       "      <td>0</td>\n",
       "      <td>...</td>\n",
       "      <td>2</td>\n",
       "      <td>7</td>\n",
       "      <td>7</td>\n",
       "      <td>0</td>\n",
       "      <td>2</td>\n",
       "      <td>1</td>\n",
       "      <td>4</td>\n",
       "      <td>2</td>\n",
       "      <td>3</td>\n",
       "      <td>5</td>\n",
       "    </tr>\n",
       "    <tr>\n",
       "      <th>1</th>\n",
       "      <td>5</td>\n",
       "      <td>2</td>\n",
       "      <td>9</td>\n",
       "      <td>1</td>\n",
       "      <td>0</td>\n",
       "      <td>1</td>\n",
       "      <td>0</td>\n",
       "      <td>0</td>\n",
       "      <td>4</td>\n",
       "      <td>0</td>\n",
       "      <td>...</td>\n",
       "      <td>2</td>\n",
       "      <td>7</td>\n",
       "      <td>7</td>\n",
       "      <td>0</td>\n",
       "      <td>2</td>\n",
       "      <td>1</td>\n",
       "      <td>4</td>\n",
       "      <td>3</td>\n",
       "      <td>2</td>\n",
       "      <td>1</td>\n",
       "    </tr>\n",
       "    <tr>\n",
       "      <th>2</th>\n",
       "      <td>0</td>\n",
       "      <td>2</td>\n",
       "      <td>8</td>\n",
       "      <td>1</td>\n",
       "      <td>3</td>\n",
       "      <td>1</td>\n",
       "      <td>0</td>\n",
       "      <td>0</td>\n",
       "      <td>5</td>\n",
       "      <td>0</td>\n",
       "      <td>...</td>\n",
       "      <td>2</td>\n",
       "      <td>7</td>\n",
       "      <td>7</td>\n",
       "      <td>0</td>\n",
       "      <td>2</td>\n",
       "      <td>1</td>\n",
       "      <td>4</td>\n",
       "      <td>3</td>\n",
       "      <td>2</td>\n",
       "      <td>3</td>\n",
       "    </tr>\n",
       "  </tbody>\n",
       "</table>\n",
       "<p>3 rows × 22 columns</p>\n",
       "</div>"
      ],
      "text/plain": [
       "   cap-shape  cap-surface  cap-color  bruises  odor  gill-attachment  \\\n",
       "0          5            2          4        1     6                1   \n",
       "1          5            2          9        1     0                1   \n",
       "2          0            2          8        1     3                1   \n",
       "\n",
       "   gill-spacing  gill-size  gill-color  stalk-shape  ...  \\\n",
       "0             0          1           4            0  ...   \n",
       "1             0          0           4            0  ...   \n",
       "2             0          0           5            0  ...   \n",
       "\n",
       "   stalk-surface-below-ring  stalk-color-above-ring  stalk-color-below-ring  \\\n",
       "0                         2                       7                       7   \n",
       "1                         2                       7                       7   \n",
       "2                         2                       7                       7   \n",
       "\n",
       "   veil-type  veil-color  ring-number  ring-type  spore-print-color  \\\n",
       "0          0           2            1          4                  2   \n",
       "1          0           2            1          4                  3   \n",
       "2          0           2            1          4                  3   \n",
       "\n",
       "   population  habitat  \n",
       "0           3        5  \n",
       "1           2        1  \n",
       "2           2        3  \n",
       "\n",
       "[3 rows x 22 columns]"
      ]
     },
     "execution_count": 20,
     "metadata": {},
     "output_type": "execute_result"
    }
   ],
   "source": [
    "X[0:3]"
   ]
  },
  {
   "cell_type": "code",
   "execution_count": 21,
   "metadata": {},
   "outputs": [
    {
     "data": {
      "text/plain": [
       "array([1, 0, 0])"
      ]
     },
     "execution_count": 21,
     "metadata": {},
     "output_type": "execute_result"
    }
   ],
   "source": [
    "y[0:3] #poisonous = 1 and eatable = 0"
   ]
  },
  {
   "cell_type": "code",
   "execution_count": 22,
   "metadata": {},
   "outputs": [
    {
     "name": "stdout",
     "output_type": "stream",
     "text": [
      "<class 'pandas.core.frame.DataFrame'>\n",
      "RangeIndex: 8124 entries, 0 to 8123\n",
      "Data columns (total 22 columns):\n",
      " #   Column                    Non-Null Count  Dtype\n",
      "---  ------                    --------------  -----\n",
      " 0   cap-shape                 8124 non-null   int32\n",
      " 1   cap-surface               8124 non-null   int32\n",
      " 2   cap-color                 8124 non-null   int32\n",
      " 3   bruises                   8124 non-null   int32\n",
      " 4   odor                      8124 non-null   int32\n",
      " 5   gill-attachment           8124 non-null   int32\n",
      " 6   gill-spacing              8124 non-null   int32\n",
      " 7   gill-size                 8124 non-null   int32\n",
      " 8   gill-color                8124 non-null   int32\n",
      " 9   stalk-shape               8124 non-null   int32\n",
      " 10  stalk-root                8124 non-null   int32\n",
      " 11  stalk-surface-above-ring  8124 non-null   int32\n",
      " 12  stalk-surface-below-ring  8124 non-null   int32\n",
      " 13  stalk-color-above-ring    8124 non-null   int32\n",
      " 14  stalk-color-below-ring    8124 non-null   int32\n",
      " 15  veil-type                 8124 non-null   int32\n",
      " 16  veil-color                8124 non-null   int32\n",
      " 17  ring-number               8124 non-null   int32\n",
      " 18  ring-type                 8124 non-null   int32\n",
      " 19  spore-print-color         8124 non-null   int32\n",
      " 20  population                8124 non-null   int32\n",
      " 21  habitat                   8124 non-null   int32\n",
      "dtypes: int32(22)\n",
      "memory usage: 698.3 KB\n"
     ]
    }
   ],
   "source": [
    "X.info()"
   ]
  },
  {
   "cell_type": "markdown",
   "metadata": {},
   "source": [
    "Now Endoing is done. Another challenge here is that each column has multiple unique values. For ex: cap-shape has 1 to 5 values. We will have to divide that column into 5 columns only one holding the value corresponding to the attribute. \n",
    "We use get_dummies method"
   ]
  },
  {
   "cell_type": "code",
   "execution_count": 23,
   "metadata": {},
   "outputs": [],
   "source": [
    "X = pd.get_dummies(X, columns = X.columns, drop_first = True)\n",
    "\n",
    "\n",
    "#drop_first : bool, default False\n",
    "    #Whether to get k-1 dummies out of k categorical levels by removing the\n",
    "    #first level. Here we drop class column hence drp_first is True"
   ]
  },
  {
   "cell_type": "code",
   "execution_count": 24,
   "metadata": {},
   "outputs": [
    {
     "data": {
      "text/html": [
       "<div>\n",
       "<style scoped>\n",
       "    .dataframe tbody tr th:only-of-type {\n",
       "        vertical-align: middle;\n",
       "    }\n",
       "\n",
       "    .dataframe tbody tr th {\n",
       "        vertical-align: top;\n",
       "    }\n",
       "\n",
       "    .dataframe thead th {\n",
       "        text-align: right;\n",
       "    }\n",
       "</style>\n",
       "<table border=\"1\" class=\"dataframe\">\n",
       "  <thead>\n",
       "    <tr style=\"text-align: right;\">\n",
       "      <th></th>\n",
       "      <th>cap-shape_1</th>\n",
       "      <th>cap-shape_2</th>\n",
       "      <th>cap-shape_3</th>\n",
       "      <th>cap-shape_4</th>\n",
       "      <th>cap-shape_5</th>\n",
       "      <th>cap-surface_1</th>\n",
       "      <th>cap-surface_2</th>\n",
       "      <th>cap-surface_3</th>\n",
       "      <th>cap-color_1</th>\n",
       "      <th>cap-color_2</th>\n",
       "      <th>...</th>\n",
       "      <th>population_2</th>\n",
       "      <th>population_3</th>\n",
       "      <th>population_4</th>\n",
       "      <th>population_5</th>\n",
       "      <th>habitat_1</th>\n",
       "      <th>habitat_2</th>\n",
       "      <th>habitat_3</th>\n",
       "      <th>habitat_4</th>\n",
       "      <th>habitat_5</th>\n",
       "      <th>habitat_6</th>\n",
       "    </tr>\n",
       "  </thead>\n",
       "  <tbody>\n",
       "    <tr>\n",
       "      <th>0</th>\n",
       "      <td>0</td>\n",
       "      <td>0</td>\n",
       "      <td>0</td>\n",
       "      <td>0</td>\n",
       "      <td>1</td>\n",
       "      <td>0</td>\n",
       "      <td>1</td>\n",
       "      <td>0</td>\n",
       "      <td>0</td>\n",
       "      <td>0</td>\n",
       "      <td>...</td>\n",
       "      <td>0</td>\n",
       "      <td>1</td>\n",
       "      <td>0</td>\n",
       "      <td>0</td>\n",
       "      <td>0</td>\n",
       "      <td>0</td>\n",
       "      <td>0</td>\n",
       "      <td>0</td>\n",
       "      <td>1</td>\n",
       "      <td>0</td>\n",
       "    </tr>\n",
       "    <tr>\n",
       "      <th>1</th>\n",
       "      <td>0</td>\n",
       "      <td>0</td>\n",
       "      <td>0</td>\n",
       "      <td>0</td>\n",
       "      <td>1</td>\n",
       "      <td>0</td>\n",
       "      <td>1</td>\n",
       "      <td>0</td>\n",
       "      <td>0</td>\n",
       "      <td>0</td>\n",
       "      <td>...</td>\n",
       "      <td>1</td>\n",
       "      <td>0</td>\n",
       "      <td>0</td>\n",
       "      <td>0</td>\n",
       "      <td>1</td>\n",
       "      <td>0</td>\n",
       "      <td>0</td>\n",
       "      <td>0</td>\n",
       "      <td>0</td>\n",
       "      <td>0</td>\n",
       "    </tr>\n",
       "    <tr>\n",
       "      <th>2</th>\n",
       "      <td>0</td>\n",
       "      <td>0</td>\n",
       "      <td>0</td>\n",
       "      <td>0</td>\n",
       "      <td>0</td>\n",
       "      <td>0</td>\n",
       "      <td>1</td>\n",
       "      <td>0</td>\n",
       "      <td>0</td>\n",
       "      <td>0</td>\n",
       "      <td>...</td>\n",
       "      <td>1</td>\n",
       "      <td>0</td>\n",
       "      <td>0</td>\n",
       "      <td>0</td>\n",
       "      <td>0</td>\n",
       "      <td>0</td>\n",
       "      <td>1</td>\n",
       "      <td>0</td>\n",
       "      <td>0</td>\n",
       "      <td>0</td>\n",
       "    </tr>\n",
       "    <tr>\n",
       "      <th>3</th>\n",
       "      <td>0</td>\n",
       "      <td>0</td>\n",
       "      <td>0</td>\n",
       "      <td>0</td>\n",
       "      <td>1</td>\n",
       "      <td>0</td>\n",
       "      <td>0</td>\n",
       "      <td>1</td>\n",
       "      <td>0</td>\n",
       "      <td>0</td>\n",
       "      <td>...</td>\n",
       "      <td>0</td>\n",
       "      <td>1</td>\n",
       "      <td>0</td>\n",
       "      <td>0</td>\n",
       "      <td>0</td>\n",
       "      <td>0</td>\n",
       "      <td>0</td>\n",
       "      <td>0</td>\n",
       "      <td>1</td>\n",
       "      <td>0</td>\n",
       "    </tr>\n",
       "    <tr>\n",
       "      <th>4</th>\n",
       "      <td>0</td>\n",
       "      <td>0</td>\n",
       "      <td>0</td>\n",
       "      <td>0</td>\n",
       "      <td>1</td>\n",
       "      <td>0</td>\n",
       "      <td>1</td>\n",
       "      <td>0</td>\n",
       "      <td>0</td>\n",
       "      <td>0</td>\n",
       "      <td>...</td>\n",
       "      <td>0</td>\n",
       "      <td>0</td>\n",
       "      <td>0</td>\n",
       "      <td>0</td>\n",
       "      <td>1</td>\n",
       "      <td>0</td>\n",
       "      <td>0</td>\n",
       "      <td>0</td>\n",
       "      <td>0</td>\n",
       "      <td>0</td>\n",
       "    </tr>\n",
       "  </tbody>\n",
       "</table>\n",
       "<p>5 rows × 95 columns</p>\n",
       "</div>"
      ],
      "text/plain": [
       "   cap-shape_1  cap-shape_2  cap-shape_3  cap-shape_4  cap-shape_5  \\\n",
       "0            0            0            0            0            1   \n",
       "1            0            0            0            0            1   \n",
       "2            0            0            0            0            0   \n",
       "3            0            0            0            0            1   \n",
       "4            0            0            0            0            1   \n",
       "\n",
       "   cap-surface_1  cap-surface_2  cap-surface_3  cap-color_1  cap-color_2  ...  \\\n",
       "0              0              1              0            0            0  ...   \n",
       "1              0              1              0            0            0  ...   \n",
       "2              0              1              0            0            0  ...   \n",
       "3              0              0              1            0            0  ...   \n",
       "4              0              1              0            0            0  ...   \n",
       "\n",
       "   population_2  population_3  population_4  population_5  habitat_1  \\\n",
       "0             0             1             0             0          0   \n",
       "1             1             0             0             0          1   \n",
       "2             1             0             0             0          0   \n",
       "3             0             1             0             0          0   \n",
       "4             0             0             0             0          1   \n",
       "\n",
       "   habitat_2  habitat_3  habitat_4  habitat_5  habitat_6  \n",
       "0          0          0          0          1          0  \n",
       "1          0          0          0          0          0  \n",
       "2          0          1          0          0          0  \n",
       "3          0          0          0          1          0  \n",
       "4          0          0          0          0          0  \n",
       "\n",
       "[5 rows x 95 columns]"
      ]
     },
     "execution_count": 24,
     "metadata": {},
     "output_type": "execute_result"
    }
   ],
   "source": [
    "X.head()"
   ]
  },
  {
   "cell_type": "markdown",
   "metadata": {},
   "source": [
    "Now split the dataset into training and testing datasets"
   ]
  },
  {
   "cell_type": "code",
   "execution_count": 26,
   "metadata": {},
   "outputs": [],
   "source": [
    "from sklearn.model_selection import train_test_split\n",
    "\n",
    "X_train, X_test, y_train, y_test = train_test_split(X,y,test_size=0.3, random_state=42)"
   ]
  },
  {
   "cell_type": "code",
   "execution_count": 27,
   "metadata": {},
   "outputs": [
    {
     "name": "stdout",
     "output_type": "stream",
     "text": [
      "(5686, 95)\n",
      "(2438, 95)\n",
      "(5686,)\n",
      "(2438,)\n"
     ]
    }
   ],
   "source": [
    "print(X_train.shape)\n",
    "print(X_test.shape)\n",
    "print(y_train.shape)\n",
    "print(y_test.shape)\n"
   ]
  },
  {
   "cell_type": "markdown",
   "metadata": {},
   "source": [
    "###### Feature scaling"
   ]
  },
  {
   "cell_type": "code",
   "execution_count": 28,
   "metadata": {},
   "outputs": [],
   "source": [
    "from sklearn.preprocessing import StandardScaler\n",
    "sc = StandardScaler()\n",
    "\n",
    "X_train = sc.fit_transform(X_train)\n",
    "X_test = sc.fit_transform(X_test)"
   ]
  },
  {
   "cell_type": "markdown",
   "metadata": {},
   "source": [
    "importing metrics"
   ]
  },
  {
   "cell_type": "code",
   "execution_count": 34,
   "metadata": {},
   "outputs": [],
   "source": [
    "from sklearn.metrics import classification_report, accuracy_score, confusion_matrix, plot_confusion_matrix"
   ]
  },
  {
   "cell_type": "markdown",
   "metadata": {},
   "source": [
    "##### Logistics Regression"
   ]
  },
  {
   "cell_type": "code",
   "execution_count": 31,
   "metadata": {},
   "outputs": [],
   "source": [
    "from sklearn.linear_model import LogisticRegression\n",
    "\n",
    "model = LogisticRegression()\n",
    "model.fit(X_train, y_train)\n",
    "ypred = model.predict(X_test)"
   ]
  },
  {
   "cell_type": "code",
   "execution_count": 42,
   "metadata": {},
   "outputs": [
    {
     "name": "stdout",
     "output_type": "stream",
     "text": [
      "Accuracy score:  1.0\n",
      "Confusion matrix:  [[1257    0]\n",
      " [   0 1181]]\n",
      "Classification report: \n",
      "               precision    recall  f1-score   support\n",
      "\n",
      "           0       1.00      1.00      1.00      1257\n",
      "           1       1.00      1.00      1.00      1181\n",
      "\n",
      "    accuracy                           1.00      2438\n",
      "   macro avg       1.00      1.00      1.00      2438\n",
      "weighted avg       1.00      1.00      1.00      2438\n",
      "\n"
     ]
    },
    {
     "data": {
      "image/png": "[encoded data removed]",
      "text/plain": [
       "<Figure size 432x288 with 2 Axes>"
      ]
     },
     "metadata": {
      "needs_background": "light"
     },
     "output_type": "display_data"
    }
   ],
   "source": [
    "print(\"Accuracy score: \", accuracy_score(y_test, ypred))\n",
    "print(\"Confusion matrix: \", confusion_matrix(y_test, ypred))\n",
    "sns.heatmap(confusion_matrix(y_test, ypred), annot=True, fmt='g')\n",
    "print(\"Classification report: \\n\", classification_report(y_test, ypred))"
   ]
  },
  {
   "cell_type": "markdown",
   "metadata": {},
   "source": [
    "##### Support vector Mechanics"
   ]
  },
  {
   "cell_type": "code",
   "execution_count": 43,
   "metadata": {},
   "outputs": [
    {
     "name": "stdout",
     "output_type": "stream",
     "text": [
      "Accuracy score:  0.9987694831829368\n",
      "Confusion matrix:  [[1257    0]\n",
      " [   3 1178]]\n",
      "Classification report: \n",
      "               precision    recall  f1-score   support\n",
      "\n",
      "           0       1.00      1.00      1.00      1257\n",
      "           1       1.00      1.00      1.00      1181\n",
      "\n",
      "    accuracy                           1.00      2438\n",
      "   macro avg       1.00      1.00      1.00      2438\n",
      "weighted avg       1.00      1.00      1.00      2438\n",
      "\n"
     ]
    },
    {
     "data": {
      "image/png": "[encoded data removed]",
      "text/plain": [
       "<Figure size 432x288 with 2 Axes>"
      ]
     },
     "metadata": {
      "needs_background": "light"
     },
     "output_type": "display_data"
    }
   ],
   "source": [
    "from sklearn.svm import SVC\n",
    "\n",
    "model = SVC()\n",
    "model.fit(X_train, y_train)\n",
    "ypred = model.predict(X_test)\n",
    "\n",
    "print(\"Accuracy score: \", accuracy_score(y_test, ypred))\n",
    "print(\"Confusion matrix: \", confusion_matrix(y_test, ypred))\n",
    "sns.heatmap(confusion_matrix(y_test, ypred), annot=True, fmt='g')\n",
    "print(\"Classification report: \\n\", classification_report(y_test, ypred))"
   ]
  },
  {
   "cell_type": "markdown",
   "metadata": {},
   "source": [
    "##### KNN"
   ]
  },
  {
   "cell_type": "code",
   "execution_count": 44,
   "metadata": {},
   "outputs": [
    {
     "name": "stdout",
     "output_type": "stream",
     "text": [
      "Accuracy score:  0.9995898277276456\n",
      "Confusion matrix:  [[1257    0]\n",
      " [   1 1180]]\n",
      "Classification report: \n",
      "               precision    recall  f1-score   support\n",
      "\n",
      "           0       1.00      1.00      1.00      1257\n",
      "           1       1.00      1.00      1.00      1181\n",
      "\n",
      "    accuracy                           1.00      2438\n",
      "   macro avg       1.00      1.00      1.00      2438\n",
      "weighted avg       1.00      1.00      1.00      2438\n",
      "\n"
     ]
    },
    {
     "data": {
      "image/png": "[encoded data removed]",
      "text/plain": [
       "<Figure size 432x288 with 2 Axes>"
      ]
     },
     "metadata": {
      "needs_background": "light"
     },
     "output_type": "display_data"
    }
   ],
   "source": [
    "from sklearn.neighbors import KNeighborsClassifier\n",
    "\n",
    "model = KNeighborsClassifier()\n",
    "model.fit(X_train, y_train)\n",
    "ypred = model.predict(X_test)\n",
    "\n",
    "print(\"Accuracy score: \", accuracy_score(y_test, ypred))\n",
    "print(\"Confusion matrix: \", confusion_matrix(y_test, ypred))\n",
    "sns.heatmap(confusion_matrix(y_test, ypred), annot=True, fmt='g')\n",
    "print(\"Classification report: \\n\", classification_report(y_test, ypred))"
   ]
  },
  {
   "cell_type": "markdown",
   "metadata": {},
   "source": [
    "##### naive Bayes"
   ]
  },
  {
   "cell_type": "code",
   "execution_count": 46,
   "metadata": {},
   "outputs": [
    {
     "name": "stdout",
     "output_type": "stream",
     "text": [
      "Accuracy score:  0.9971287940935193\n",
      "Confusion matrix:  [[1257    0]\n",
      " [   7 1174]]\n",
      "Classification report: \n",
      "               precision    recall  f1-score   support\n",
      "\n",
      "           0       0.99      1.00      1.00      1257\n",
      "           1       1.00      0.99      1.00      1181\n",
      "\n",
      "    accuracy                           1.00      2438\n",
      "   macro avg       1.00      1.00      1.00      2438\n",
      "weighted avg       1.00      1.00      1.00      2438\n",
      "\n"
     ]
    },
    {
     "data": {
      "image/png": "[encoded data removed]",
      "text/plain": [
       "<Figure size 432x288 with 2 Axes>"
      ]
     },
     "metadata": {
      "needs_background": "light"
     },
     "output_type": "display_data"
    }
   ],
   "source": [
    "from sklearn.naive_bayes import GaussianNB\n",
    "\n",
    "model = GaussianNB()\n",
    "model.fit(X_train, y_train)\n",
    "ypred = model.predict(X_test)\n",
    "\n",
    "print(\"Accuracy score: \", accuracy_score(y_test, ypred))\n",
    "print(\"Confusion matrix: \", confusion_matrix(y_test, ypred))\n",
    "sns.heatmap(confusion_matrix(y_test, ypred), annot=True, fmt='g')\n",
    "print(\"Classification report: \\n\", classification_report(y_test, ypred))"
   ]
  },
  {
   "cell_type": "markdown",
   "metadata": {},
   "source": [
    "##### Decision Tree"
   ]
  },
  {
   "cell_type": "code",
   "execution_count": 48,
   "metadata": {},
   "outputs": [
    {
     "name": "stdout",
     "output_type": "stream",
     "text": [
      "Accuracy score:  1.0\n",
      "Confusion matrix:  [[1257    0]\n",
      " [   0 1181]]\n",
      "Classification report: \n",
      "               precision    recall  f1-score   support\n",
      "\n",
      "           0       1.00      1.00      1.00      1257\n",
      "           1       1.00      1.00      1.00      1181\n",
      "\n",
      "    accuracy                           1.00      2438\n",
      "   macro avg       1.00      1.00      1.00      2438\n",
      "weighted avg       1.00      1.00      1.00      2438\n",
      "\n"
     ]
    },
    {
     "data": {
      "image/png": "[encoded data removed]",
      "text/plain": [
       "<Figure size 432x288 with 2 Axes>"
      ]
     },
     "metadata": {
      "needs_background": "light"
     },
     "output_type": "display_data"
    }
   ],
   "source": [
    "from sklearn.tree import DecisionTreeClassifier\n",
    "\n",
    "model = DecisionTreeClassifier()\n",
    "model.fit(X_train, y_train)\n",
    "ypred = model.predict(X_test)\n",
    "\n",
    "print(\"Accuracy score: \", accuracy_score(y_test, ypred))\n",
    "print(\"Confusion matrix: \", confusion_matrix(y_test, ypred))\n",
    "sns.heatmap(confusion_matrix(y_test, ypred), annot=True, fmt='g')\n",
    "print(\"Classification report: \\n\", classification_report(y_test, ypred))"
   ]
  },
  {
   "cell_type": "markdown",
   "metadata": {},
   "source": [
    "##### Random Forest"
   ]
  },
  {
   "cell_type": "code",
   "execution_count": 49,
   "metadata": {},
   "outputs": [
    {
     "name": "stdout",
     "output_type": "stream",
     "text": [
      "Accuracy score:  1.0\n",
      "Confusion matrix:  [[1257    0]\n",
      " [   0 1181]]\n",
      "Classification report: \n",
      "               precision    recall  f1-score   support\n",
      "\n",
      "           0       1.00      1.00      1.00      1257\n",
      "           1       1.00      1.00      1.00      1181\n",
      "\n",
      "    accuracy                           1.00      2438\n",
      "   macro avg       1.00      1.00      1.00      2438\n",
      "weighted avg       1.00      1.00      1.00      2438\n",
      "\n"
     ]
    },
    {
     "data": {
      "image/png": "[encoded data removed]",
      "text/plain": [
       "<Figure size 432x288 with 2 Axes>"
      ]
     },
     "metadata": {
      "needs_background": "light"
     },
     "output_type": "display_data"
    }
   ],
   "source": [
    "from sklearn.ensemble import RandomForestClassifier\n",
    "\n",
    "model = DecisionTreeClassifier()\n",
    "model.fit(X_train, y_train)\n",
    "ypred = model.predict(X_test)\n",
    "\n",
    "print(\"Accuracy score: \", accuracy_score(y_test, ypred))\n",
    "print(\"Confusion matrix: \", confusion_matrix(y_test, ypred))\n",
    "sns.heatmap(confusion_matrix(y_test, ypred), annot=True, fmt='g')\n",
    "print(\"Classification report: \\n\", classification_report(y_test, ypred))"
   ]
  },
  {
   "cell_type": "markdown",
   "metadata": {},
   "source": [
    "##### Artificial Neural networks"
   ]
  },
  {
   "cell_type": "code",
   "execution_count": 50,
   "metadata": {},
   "outputs": [],
   "source": [
    "import keras\n",
    "from keras.models import Sequential\n",
    "from keras.layers import Dense"
   ]
  },
  {
   "cell_type": "markdown",
   "metadata": {},
   "source": [
    "Applying PCA with n_components = 2"
   ]
  },
  {
   "cell_type": "code",
   "execution_count": 68,
   "metadata": {},
   "outputs": [],
   "source": [
    "from sklearn.decomposition import PCA\n",
    "pca = PCA(n_components=2)\n",
    "\n",
    "X_train = pca.fit_transform(X_train)\n",
    "X_test = pca.transform(X_test)"
   ]
  },
  {
   "cell_type": "code",
   "execution_count": 69,
   "metadata": {},
   "outputs": [],
   "source": [
    "model = Sequential()"
   ]
  },
  {
   "cell_type": "markdown",
   "metadata": {},
   "source": [
    "Adding layers"
   ]
  },
  {
   "cell_type": "code",
   "execution_count": 70,
   "metadata": {},
   "outputs": [],
   "source": [
    "model.add(Dense(8, kernel_initializer = 'uniform', activation = 'relu', input_dim = 2))\n",
    "model.add(Dense(6, kernel_initializer = 'uniform', activation = 'relu'))\n",
    "model.add(Dense(5, kernel_initializer = 'uniform', activation = 'relu'))\n",
    "model.add(Dense(4, kernel_initializer = 'uniform', activation = 'relu'))\n",
    "model.add(Dense(1, kernel_initializer = 'uniform', activation = 'relu'))\n",
    "model.compile(optimizer='adam', loss='binary_crossentropy', metrics=['accuracy'])"
   ]
  },
  {
   "cell_type": "code",
   "execution_count": 71,
   "metadata": {},
   "outputs": [
    {
     "name": "stdout",
     "output_type": "stream",
     "text": [
      "Epoch 1/100\n",
      "5686/5686 [==============================] - 3s 604us/step - loss: 1.2511 - accuracy: 0.6356\n",
      "Epoch 2/100\n",
      "5686/5686 [==============================] - 2s 436us/step - loss: 0.2855 - accuracy: 0.7116\n",
      "Epoch 3/100\n",
      "5686/5686 [==============================] - 3s 443us/step - loss: 0.2932 - accuracy: 0.6731\n",
      "Epoch 4/100\n",
      "5686/5686 [==============================] - 2s 438us/step - loss: 0.2833 - accuracy: 0.6891\n",
      "Epoch 5/100\n",
      "5686/5686 [==============================] - 3s 489us/step - loss: 0.2748 - accuracy: 0.6873\n",
      "Epoch 6/100\n",
      "5686/5686 [==============================] - 3s 442us/step - loss: 0.2685 - accuracy: 0.6979\n",
      "Epoch 7/100\n",
      "5686/5686 [==============================] - 2s 437us/step - loss: 0.2783 - accuracy: 0.6769\n",
      "Epoch 8/100\n",
      "5686/5686 [==============================] - 3s 457us/step - loss: 0.2707 - accuracy: 0.6887\n",
      "Epoch 9/100\n",
      "5686/5686 [==============================] - 3s 497us/step - loss: 0.2680 - accuracy: 0.7059\n",
      "Epoch 10/100\n",
      "5686/5686 [==============================] - 3s 441us/step - loss: 0.2694 - accuracy: 0.6905\n",
      "Epoch 11/100\n",
      "5686/5686 [==============================] - 3s 441us/step - loss: 0.2621 - accuracy: 0.7051\n",
      "Epoch 12/100\n",
      "5686/5686 [==============================] - 3s 449us/step - loss: 0.2550 - accuracy: 0.7014\n",
      "Epoch 13/100\n",
      "5686/5686 [==============================] - 3s 450us/step - loss: 0.2584 - accuracy: 0.6968\n",
      "Epoch 14/100\n",
      "5686/5686 [==============================] - 3s 450us/step - loss: 0.2712 - accuracy: 0.6850\n",
      "Epoch 15/100\n",
      "5686/5686 [==============================] - 3s 449us/step - loss: 0.2754 - accuracy: 0.6755\n",
      "Epoch 16/100\n",
      "5686/5686 [==============================] - 3s 458us/step - loss: 0.2600 - accuracy: 0.7216\n",
      "Epoch 17/100\n",
      "5686/5686 [==============================] - 3s 464us/step - loss: 0.2731 - accuracy: 0.7207\n",
      "Epoch 18/100\n",
      "5686/5686 [==============================] - 3s 456us/step - loss: 0.2507 - accuracy: 0.7144\n",
      "Epoch 19/100\n",
      "5686/5686 [==============================] - 3s 469us/step - loss: 0.2469 - accuracy: 0.7045\n",
      "Epoch 20/100\n",
      "5686/5686 [==============================] - 3s 469us/step - loss: 0.2473 - accuracy: 0.7081\n",
      "Epoch 21/100\n",
      "5686/5686 [==============================] - 3s 477us/step - loss: 0.2510 - accuracy: 0.7051\n",
      "Epoch 22/100\n",
      "5686/5686 [==============================] - 3s 470us/step - loss: 0.2690 - accuracy: 0.7133\n",
      "Epoch 23/100\n",
      "5686/5686 [==============================] - 3s 481us/step - loss: 0.2531 - accuracy: 0.7232\n",
      "Epoch 24/100\n",
      "5686/5686 [==============================] - 3s 490us/step - loss: 0.2427 - accuracy: 0.7110\n",
      "Epoch 25/100\n",
      "5686/5686 [==============================] - 3s 479us/step - loss: 0.2460 - accuracy: 0.7102\n",
      "Epoch 26/100\n",
      "5686/5686 [==============================] - 3s 477us/step - loss: 0.2418 - accuracy: 0.7205\n",
      "Epoch 27/100\n",
      "5686/5686 [==============================] - 3s 477us/step - loss: 0.2410 - accuracy: 0.7135\n",
      "Epoch 28/100\n",
      "5686/5686 [==============================] - 3s 474us/step - loss: 0.2442 - accuracy: 0.7103\n",
      "Epoch 29/100\n",
      "5686/5686 [==============================] - 3s 502us/step - loss: 0.2448 - accuracy: 0.7128\n",
      "Epoch 30/100\n",
      "5686/5686 [==============================] - 3s 504us/step - loss: 0.2431 - accuracy: 0.7144\n",
      "Epoch 31/100\n",
      "5686/5686 [==============================] - 3s 461us/step - loss: 0.2417 - accuracy: 0.7144\n",
      "Epoch 32/100\n",
      "5686/5686 [==============================] - 3s 469us/step - loss: 0.2446 - accuracy: 0.7190\n",
      "Epoch 33/100\n",
      "5686/5686 [==============================] - 2s 435us/step - loss: 0.2421 - accuracy: 0.7241\n",
      "Epoch 34/100\n",
      "5686/5686 [==============================] - 2s 436us/step - loss: 0.2520 - accuracy: 0.7246\n",
      "Epoch 35/100\n",
      "5686/5686 [==============================] - 3s 454us/step - loss: 0.2397 - accuracy: 0.7323\n",
      "Epoch 36/100\n",
      "5686/5686 [==============================] - 2s 435us/step - loss: 0.2375 - accuracy: 0.7191\n",
      "Epoch 37/100\n",
      "5686/5686 [==============================] - 2s 440us/step - loss: 0.2379 - accuracy: 0.7320\n",
      "Epoch 38/100\n",
      "5686/5686 [==============================] - 3s 443us/step - loss: 0.2306 - accuracy: 0.7260\n",
      "Epoch 39/100\n",
      "5686/5686 [==============================] - 2s 438us/step - loss: 0.2337 - accuracy: 0.7286\n",
      "Epoch 40/100\n",
      "5686/5686 [==============================] - 2s 436us/step - loss: 0.2374 - accuracy: 0.7286\n",
      "Epoch 41/100\n",
      "5686/5686 [==============================] - 2s 436us/step - loss: 0.2361 - accuracy: 0.7186\n",
      "Epoch 42/100\n",
      "5686/5686 [==============================] - 2s 436us/step - loss: 0.2333 - accuracy: 0.7214\n",
      "Epoch 43/100\n",
      "5686/5686 [==============================] - 2s 438us/step - loss: 0.2379 - accuracy: 0.7334\n",
      "Epoch 44/100\n",
      "5686/5686 [==============================] - 3s 442us/step - loss: 0.2659 - accuracy: 0.7272\n",
      "Epoch 45/100\n",
      "5686/5686 [==============================] - 3s 445us/step - loss: 0.2325 - accuracy: 0.7360\n",
      "Epoch 46/100\n",
      "5686/5686 [==============================] - 2s 437us/step - loss: 0.2274 - accuracy: 0.7256\n",
      "Epoch 47/100\n",
      "5686/5686 [==============================] - 3s 458us/step - loss: 0.2367 - accuracy: 0.7306\n",
      "Epoch 48/100\n",
      "5686/5686 [==============================] - 3s 469us/step - loss: 0.2270 - accuracy: 0.7390\n",
      "Epoch 49/100\n",
      "5686/5686 [==============================] - 3s 450us/step - loss: 0.2974 - accuracy: 0.7230\n",
      "Epoch 50/100\n",
      "5686/5686 [==============================] - 3s 447us/step - loss: 0.2358 - accuracy: 0.7467\n",
      "Epoch 51/100\n",
      "5686/5686 [==============================] - 3s 441us/step - loss: 0.2236 - accuracy: 0.7341\n",
      "Epoch 52/100\n",
      "5686/5686 [==============================] - 3s 443us/step - loss: 0.2226 - accuracy: 0.7300\n",
      "Epoch 53/100\n",
      "5686/5686 [==============================] - 3s 461us/step - loss: 0.2227 - accuracy: 0.7281\n",
      "Epoch 54/100\n",
      "5686/5686 [==============================] - 2s 436us/step - loss: 0.2219 - accuracy: 0.7329\n",
      "Epoch 55/100\n",
      "5686/5686 [==============================] - 3s 480us/step - loss: 0.2257 - accuracy: 0.7344\n",
      "Epoch 56/100\n",
      "5686/5686 [==============================] - 3s 457us/step - loss: 0.2220 - accuracy: 0.7300\n",
      "Epoch 57/100\n",
      "5686/5686 [==============================] - 3s 459us/step - loss: 0.2293 - accuracy: 0.7272\n",
      "Epoch 58/100\n",
      "5686/5686 [==============================] - 3s 470us/step - loss: 0.2273 - accuracy: 0.7256\n",
      "Epoch 59/100\n",
      "5686/5686 [==============================] - 3s 457us/step - loss: 0.2222 - accuracy: 0.7285\n",
      "Epoch 60/100\n",
      "5686/5686 [==============================] - 3s 469us/step - loss: 0.2221 - accuracy: 0.7251\n",
      "Epoch 61/100\n",
      "5686/5686 [==============================] - 3s 470us/step - loss: 0.2297 - accuracy: 0.7281\n",
      "Epoch 62/100\n",
      "5686/5686 [==============================] - 3s 460us/step - loss: 0.2265 - accuracy: 0.7246\n",
      "Epoch 63/100\n",
      "5686/5686 [==============================] - 3s 455us/step - loss: 0.2299 - accuracy: 0.7198\n",
      "Epoch 64/100\n",
      "5686/5686 [==============================] - 3s 462us/step - loss: 0.2311 - accuracy: 0.7235\n",
      "Epoch 65/100\n",
      "5686/5686 [==============================] - 3s 467us/step - loss: 0.2219 - accuracy: 0.7320\n",
      "Epoch 66/100\n",
      "5686/5686 [==============================] - 3s 479us/step - loss: 0.2234 - accuracy: 0.7234\n",
      "Epoch 67/100\n",
      "5686/5686 [==============================] - 3s 522us/step - loss: 0.2208 - accuracy: 0.7253\n",
      "Epoch 68/100\n",
      "5686/5686 [==============================] - 3s 524us/step - loss: 0.2282 - accuracy: 0.7117\n",
      "Epoch 69/100\n",
      "5686/5686 [==============================] - 3s 470us/step - loss: 0.2267 - accuracy: 0.7177\n",
      "Epoch 70/100\n",
      "5686/5686 [==============================] - 3s 462us/step - loss: 0.2297 - accuracy: 0.7207\n",
      "Epoch 71/100\n",
      "5686/5686 [==============================] - 3s 464us/step - loss: 0.2337 - accuracy: 0.7339\n",
      "Epoch 72/100\n",
      "5686/5686 [==============================] - 3s 468us/step - loss: 0.2252 - accuracy: 0.7165\n",
      "Epoch 73/100\n",
      "5686/5686 [==============================] - 3s 461us/step - loss: 0.2378 - accuracy: 0.7223\n",
      "Epoch 74/100\n",
      "5686/5686 [==============================] - 3s 479us/step - loss: 0.2242 - accuracy: 0.7176\n",
      "Epoch 75/100\n",
      "5686/5686 [==============================] - 3s 473us/step - loss: 0.2199 - accuracy: 0.7205\n",
      "Epoch 76/100\n",
      "5686/5686 [==============================] - 3s 476us/step - loss: 0.2275 - accuracy: 0.7149\n",
      "Epoch 77/100\n",
      "5686/5686 [==============================] - 3s 462us/step - loss: 0.2277 - accuracy: 0.7193\n",
      "Epoch 78/100\n"
     ]
    },
    {
     "name": "stdout",
     "output_type": "stream",
     "text": [
      "5686/5686 [==============================] - 3s 456us/step - loss: 0.2304 - accuracy: 0.7095\n",
      "Epoch 79/100\n",
      "5686/5686 [==============================] - 3s 444us/step - loss: 0.2279 - accuracy: 0.7093\n",
      "Epoch 80/100\n",
      "5686/5686 [==============================] - 2s 438us/step - loss: 0.2242 - accuracy: 0.7198\n",
      "Epoch 81/100\n",
      "5686/5686 [==============================] - 2s 435us/step - loss: 0.2311 - accuracy: 0.7154\n",
      "Epoch 82/100\n",
      "5686/5686 [==============================] - 3s 443us/step - loss: 0.2310 - accuracy: 0.7183\n",
      "Epoch 83/100\n",
      "5686/5686 [==============================] - 3s 441us/step - loss: 0.2231 - accuracy: 0.7096\n",
      "Epoch 84/100\n",
      "5686/5686 [==============================] - 2s 435us/step - loss: 0.2324 - accuracy: 0.7137\n",
      "Epoch 85/100\n",
      "5686/5686 [==============================] - 3s 470us/step - loss: 0.2243 - accuracy: 0.7327\n",
      "Epoch 86/100\n",
      "5686/5686 [==============================] - 3s 469us/step - loss: 0.2342 - accuracy: 0.7177\n",
      "Epoch 87/100\n",
      "5686/5686 [==============================] - 3s 479us/step - loss: 0.2388 - accuracy: 0.7279\n",
      "Epoch 88/100\n",
      "5686/5686 [==============================] - 3s 484us/step - loss: 0.2215 - accuracy: 0.7105\n",
      "Epoch 89/100\n",
      "5686/5686 [==============================] - 3s 453us/step - loss: 0.2297 - accuracy: 0.7232\n",
      "Epoch 90/100\n",
      "5686/5686 [==============================] - 3s 456us/step - loss: 0.2217 - accuracy: 0.7218\n",
      "Epoch 91/100\n",
      "5686/5686 [==============================] - 3s 440us/step - loss: 0.2220 - accuracy: 0.7119\n",
      "Epoch 92/100\n",
      "5686/5686 [==============================] - 3s 443us/step - loss: 0.2235 - accuracy: 0.7110\n",
      "Epoch 93/100\n",
      "5686/5686 [==============================] - 3s 443us/step - loss: 0.2233 - accuracy: 0.7068\n",
      "Epoch 94/100\n",
      "5686/5686 [==============================] - 3s 460us/step - loss: 0.2235 - accuracy: 0.7216\n",
      "Epoch 95/100\n",
      "5686/5686 [==============================] - 3s 450us/step - loss: 0.2212 - accuracy: 0.7198\n",
      "Epoch 96/100\n",
      "5686/5686 [==============================] - 3s 500us/step - loss: 0.2199 - accuracy: 0.7137\n",
      "Epoch 97/100\n",
      "5686/5686 [==============================] - 3s 506us/step - loss: 0.2584 - accuracy: 0.7030\n",
      "Epoch 98/100\n",
      "5686/5686 [==============================] - 3s 451us/step - loss: 0.2251 - accuracy: 0.7028\n",
      "Epoch 99/100\n",
      "5686/5686 [==============================] - 2s 437us/step - loss: 0.2220 - accuracy: 0.6966\n",
      "Epoch 100/100\n",
      "5686/5686 [==============================] - 3s 440us/step - loss: 0.2194 - accuracy: 0.7007\n"
     ]
    },
    {
     "data": {
      "text/plain": [
       "<keras.callbacks.callbacks.History at 0x1e7446eed08>"
      ]
     },
     "execution_count": 71,
     "metadata": {},
     "output_type": "execute_result"
    }
   ],
   "source": [
    "model.fit(X_train,y_train, batch_size=10, epochs=100)"
   ]
  },
  {
   "cell_type": "code",
   "execution_count": 72,
   "metadata": {},
   "outputs": [],
   "source": [
    "ypred = model.predict(X_test)\n",
    "ypred = (ypred > 0.5)"
   ]
  },
  {
   "cell_type": "code",
   "execution_count": 73,
   "metadata": {},
   "outputs": [
    {
     "name": "stdout",
     "output_type": "stream",
     "text": [
      "Accuracy score:  0.9130434782608695\n",
      "Confusion matrix:  [[1228   29]\n",
      " [ 183  998]]\n",
      "Classification report: \n",
      "               precision    recall  f1-score   support\n",
      "\n",
      "           0       0.87      0.98      0.92      1257\n",
      "           1       0.97      0.85      0.90      1181\n",
      "\n",
      "    accuracy                           0.91      2438\n",
      "   macro avg       0.92      0.91      0.91      2438\n",
      "weighted avg       0.92      0.91      0.91      2438\n",
      "\n"
     ]
    },
    {
     "data": {
      "image/png": "[encoded data removed]",
      "text/plain": [
       "<Figure size 432x288 with 2 Axes>"
      ]
     },
     "metadata": {
      "needs_background": "light"
     },
     "output_type": "display_data"
    }
   ],
   "source": [
    "print(\"Accuracy score: \", accuracy_score(y_test, ypred))\n",
    "print(\"Confusion matrix: \", confusion_matrix(y_test, ypred))\n",
    "sns.heatmap(confusion_matrix(y_test, ypred), annot=True, fmt='g')\n",
    "print(\"Classification report: \\n\", classification_report(y_test, ypred))"
   ]
  },
  {
   "cell_type": "markdown",
   "metadata": {},
   "source": [
    "Results:\n",
    "\n",
    "For Logistic Regression:\n",
    "\n",
    "Accuracy score:  1.0\n",
    "\n",
    "Confusion matrix:  [[1257    0]\n",
    " [   0 1181]]\n",
    " \n",
    "Classification report: \n",
    "\n",
    "               precision    recall  f1-score   support\n",
    "\n",
    "           0       1.00      1.00      1.00      1257\n",
    "           1       1.00      1.00      1.00      1181\n",
    "\n",
    "    accuracy                           1.00      2438\n",
    "   macro avg       1.00      1.00      1.00      2438\n",
    "weighted avg       1.00      1.00      1.00      2438\n",
    "\n",
    "===========================================================\n",
    "\n",
    "For Support vector mehanics\n",
    "\n",
    "Accuracy score:  0.9987694831829368\n",
    "\n",
    "Confusion matrix:  [[1257    0]\n",
    " [   3 1178]]\n",
    " \n",
    "Classification report: \n",
    "\n",
    "               precision    recall  f1-score   support\n",
    "\n",
    "           0       1.00      1.00      1.00      1257\n",
    "           1       1.00      1.00      1.00      1181\n",
    "\n",
    "    accuracy                           1.00      2438\n",
    "   macro avg       1.00      1.00      1.00      2438\n",
    "weighted avg       1.00      1.00      1.00      2438\n",
    "\n",
    "=======================================================\n",
    "\n",
    "For KNN:\n",
    "\n",
    "Accuracy score:  0.9995898277276456\n",
    "\n",
    "Confusion matrix:  [[1257    0]\n",
    " [   1 1180]]\n",
    " \n",
    "Classification report: \n",
    "\n",
    "               precision    recall  f1-score   support\n",
    "\n",
    "           0       1.00      1.00      1.00      1257\n",
    "           1       1.00      1.00      1.00      1181\n",
    "\n",
    "    accuracy                           1.00      2438\n",
    "   macro avg       1.00      1.00      1.00      2438\n",
    "weighted avg       1.00      1.00      1.00      2438\n",
    "\n",
    "=======================================================\n",
    "\n",
    "For naive bayes:\n",
    "\n",
    "Accuracy score:  0.9971287940935193\n",
    "\n",
    "Confusion matrix:  [[1257    0]\n",
    " [   7 1174]]\n",
    " \n",
    "Classification report: \n",
    "\n",
    "               precision    recall  f1-score   support\n",
    "\n",
    "           0       0.99      1.00      1.00      1257\n",
    "           1       1.00      0.99      1.00      1181\n",
    "\n",
    "    accuracy                           1.00      2438\n",
    "   macro avg       1.00      1.00      1.00      2438\n",
    "weighted avg       1.00      1.00      1.00      2438\n",
    "\n",
    "========================================================\n",
    "\n",
    "For Decision Tree:\n",
    "\n",
    "Accuracy score:  1.0\n",
    "\n",
    "Confusion matrix:  [[1257    0]\n",
    " [   0 1181]]\n",
    " \n",
    "Classification report: \n",
    "\n",
    "               precision    recall  f1-score   support\n",
    "\n",
    "           0       1.00      1.00      1.00      1257\n",
    "           1       1.00      1.00      1.00      1181\n",
    "\n",
    "    accuracy                           1.00      2438\n",
    "   macro avg       1.00      1.00      1.00      2438\n",
    "weighted avg       1.00      1.00      1.00      2438\n",
    "\n",
    "========================================================\n",
    "\n",
    "For Random Forest:\n",
    "\n",
    "Accuracy score:  1.0\n",
    "\n",
    "Confusion matrix:  [[1257    0]\n",
    " [   0 1181]]\n",
    " \n",
    "Classification report: \n",
    "\n",
    "               precision    recall  f1-score   support\n",
    "\n",
    "           0       1.00      1.00      1.00      1257\n",
    "           1       1.00      1.00      1.00      1181\n",
    "\n",
    "    accuracy                           1.00      2438\n",
    "   macro avg       1.00      1.00      1.00      2438\n",
    "weighted avg       1.00      1.00      1.00      2438\n",
    "\n",
    "========================================================\n",
    "\n",
    "ANN:\n",
    "\n",
    "Accuracy score:  0.9130434782608695\n",
    "\n",
    "Confusion matrix:  [[1228   29]\n",
    " [ 183  998]]\n",
    " \n",
    "Classification report: \n",
    "\n",
    "               precision    recall  f1-score   support\n",
    "\n",
    "           0       0.87      0.98      0.92      1257\n",
    "           1       0.97      0.85      0.90      1181\n",
    "\n",
    "    accuracy                           0.91      2438\n",
    "   macro avg       0.92      0.91      0.91      2438\n",
    "weighted avg       0.92      0.91      0.91      2438\n"
   ]
  },
  {
   "cell_type": "markdown",
   "metadata": {},
   "source": [
    "All the models have performed extremely well."
   ]
  },
  {
   "cell_type": "code",
   "execution_count": null,
   "metadata": {},
   "outputs": [],
   "source": []
  },
  {
   "cell_type": "code",
   "execution_count": null,
   "metadata": {},
   "outputs": [],
   "source": []
  }
 ],
 "metadata": {
  "kernelspec": {
   "display_name": "TensorFlow-GPU-2.1.0",
   "language": "python",
   "name": "tf-gpu"
  },
  "language_info": {
   "codemirror_mode": {
    "name": "ipython",
    "version": 3
   },
   "file_extension": ".py",
   "mimetype": "text/x-python",
   "name": "python",
   "nbconvert_exporter": "python",
   "pygments_lexer": "ipython3",
   "version": "3.7.7"
  }
 },
 "nbformat": 4,
 "nbformat_minor": 4
}
