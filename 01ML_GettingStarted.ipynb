{
 "cells": [
  {
   "cell_type": "markdown",
   "metadata": {},
   "source": [
    "#### Applied Machine Learning Process:\n",
    "    \n",
    "    \n",
    "    Define the Problem\n",
    "    Prepare Data\n",
    "    Spot Check Algorithms\n",
    "    Improve Results\n",
    "    Present Results\n"
   ]
  },
  {
   "cell_type": "markdown",
   "metadata": {},
   "source": [
    "Define the Problem\n",
    "\n",
    "I like to use a three step process to define the problem. I like to move quickly and I use this mini process to see the problem from a few different perspectives very quickly:\n",
    "\n",
    "    Step 1: What is the problem? Describe the problem informally and formally and list assumptions and similar problems.\n",
    "    Step 2: Why does the problem need to be solved? List your motivation for solving the problem, the benefits a solution provides and how the solution will be used.\n",
    "    Step 3: How would I solve the problem? Describe how the problem would be solved manually to flush domain knowledge.\n",
    "\n",
    "        \n",
    "    A computer program is said to learn from experience E with respect to some class of tasks T and performance measure P, if its performance at tasks in T, as measured by P, improves with experience E.\n",
    "\n",
    "Use this formalism to define the T, P, and E for your problem.\n",
    "\n",
    "For example:\n",
    "\n",
    "    Task (T): Classify a tweet that has not been published as going to get retweets or not.\n",
    "    Experience (E): A corpus of tweets for an account where some have retweets and some do not.\n",
    "    Performance (P): Classification accuracy, the number of tweets predicted correctly out of all tweets considered as a percentage.\n"
   ]
  },
  {
   "cell_type": "markdown",
   "metadata": {},
   "source": [
    "Prepare Data\n",
    "\n",
    "I preface data preparation with a data analysis phase that involves summarizing the attributes and visualizing them using scatter plots and histograms. I also like to describe in detail each attribute and relationships between attributes. This grunt work forces me to think about the data in the context of the problem before it is lost to the algorithms\n",
    "\n",
    "The actual data preparation process is three step as follows:\n",
    "\n",
    "    Step 1: Data Selection: Consider what data is available, what data is missing and what data can be removed.\n",
    "    Step 2: Data Preprocessing: Organize your selected data by formatting, cleaning and sampling from it.\n",
    "    Step 3: Data Transformation: Transform preprocessed data ready for machine learning by engineering features using scaling, attribute decomposition and attribute aggregation.\n"
   ]
  },
  {
   "cell_type": "markdown",
   "metadata": {},
   "source": [
    "Spot Check Algorithms\n",
    "\n",
    "I use 10 fold cross validation in my test harnesses by default. All experiments (algorithm and dataset combinations) are repeated 10 times and the mean and standard deviation of the accuracy is collected and reported. I also use statistical significance tests to flush out meaningful results from noise. Box-plots are very useful for summarizing the distribution of accuracy results for each algorithm and dataset pair.\n",
    "\n",
    "I spot check algorithms, which means loading up a bunch of standard machine learning algorithms into my test harness and performing a formal experiment. I typically run 10-20 standard algorithms from all the major algorithm families across all the transformed and scaled versions of the dataset I have prepared.\n",
    "\n",
    "The goal of spot checking is to flush out the types of algorithms and dataset combinations that are good at picking out the structure of the problem so that they can be studied in more detail with focused experiments.\n",
    "\n",
    "More focused experiments with well-performing families of algorithms may be performed in this step, but algorithm tuning is left for the next step"
   ]
  },
  {
   "cell_type": "markdown",
   "metadata": {},
   "source": [
    "Improve Results\n",
    "\n",
    "After spot checking, it’s time to squeeze out the best result from the rig. I do this by running an automated sensitivity analysis on the parameters of the top performing algorithms. I also design and run experiments using standard ensemble methods of the top performing algorithms. I put a lot of time into thinking about how to get more out of the dataset or of the family of algorithms that have been shown to perform well.\n",
    "\n",
    "Again, statistical significance of results is critical here. It is so easy to focus on the methods and play with algorithm configurations. The results are only meaningful if they are significant and all configuration are already thought out and the experiments are executed in batch. I also like to maintain my own personal leaderboard of top results on a problem.\n",
    "\n",
    "In summary, the process of improving results involves:\n",
    "\n",
    "    Algorithm Tuning: where discovering the best models is treated like a search problem through model parameter space.\n",
    "    Ensemble Methods: where the predictions made by multiple models are combined.\n",
    "    Extreme Feature Engineering: where the attribute decomposition and aggregation seen in data preparation is pushed to the limits.\n"
   ]
  },
  {
   "cell_type": "markdown",
   "metadata": {},
   "source": [
    "Present Results\n",
    "\n",
    "The results of a complex machine learning problem are meaningless unless they are put to work. This typically means a presentation to stakeholders. Even if it is a competition or a problem I am working on for myself, I still go through the process of presenting the results. It’s a good practice and gives me clear learnings I can build upon next time.\n",
    "\n",
    "The template I use to present results is below and may take the form of a text document, formal report or presentation slides.\n",
    "\n",
    "    Context (Why): Define the environment in which the problem exists and set up the motivation for the research question.\n",
    "    Problem (Question): Concisely describe the problem as a question that you went out and answered.\n",
    "    Solution (Answer): Concisely describe the solution as an answer to the question you posed in the previous section. Be specific.\n",
    "    Findings: Bulleted lists of discoveries you made along the way that interests the audience. They may be discoveries in the data, methods that did or did not work or the model performance benefits you achieved along your journey.\n",
    "    Limitations: Consider where the model does not work or questions that the model does not answer. Do not shy away from these questions, defining where the model excels is more trusted if you can define where it does not excel.\n",
    "    Conclusions (Why+Question+Answer): Revisit the “why”, research question and the answer you discovered in a tight little package that is easy to remember and repeat for yourself and others.\n"
   ]
  },
  {
   "cell_type": "markdown",
   "metadata": {},
   "source": [
    "We will learn ML in following steps:\n",
    "    \n",
    "    Lesson 1: Download and Install Python and SciPy ecosystem.\n",
    "    Lesson 2: Get Around In Python, NumPy, Matplotlib and Pandas.\n",
    "    Lesson 3: Load Data From CSV.\n",
    "    Lesson 4: Understand Data with Descriptive Statistics.\n",
    "    Lesson 5: Understand Data with Visualization.\n",
    "    Lesson 6: Prepare For Modeling by Pre-Processing Data.\n",
    "    Lesson 7: Algorithm Evaluation With Resampling Methods.\n",
    "    Lesson 8: Algorithm Evaluation Metrics.\n",
    "    Lesson 9: Spot-Check Algorithms.\n",
    "    Lesson 10: Model Comparison and Selection.\n",
    "    Lesson 11: Improve Accuracy with Algorithm Tuning.\n",
    "    Lesson 12: Improve Accuracy with Ensemble Predictions.\n",
    "    Lesson 13: Finalize And Save Your Model.\n",
    "    Lesson 14: Hello World End-to-End Project.\n"
   ]
  },
  {
   "cell_type": "code",
   "execution_count": 1,
   "metadata": {},
   "outputs": [
    {
     "name": "stdout",
     "output_type": "stream",
     "text": [
      "scipy: 1.2.1\n",
      "numpy: 1.16.4\n",
      "matplotlib: 3.1.0\n",
      "pandas: 0.24.2\n",
      "statsmodels: 0.10.0\n",
      "sklearn: 0.21.2\n"
     ]
    }
   ],
   "source": [
    "# scipy\n",
    "import scipy\n",
    "print('scipy: %s' % scipy.__version__)\n",
    "# numpy\n",
    "import numpy\n",
    "print('numpy: %s' % numpy.__version__)\n",
    "# matplotlib\n",
    "import matplotlib\n",
    "print('matplotlib: %s' % matplotlib.__version__)\n",
    "# pandas\n",
    "import pandas\n",
    "print('pandas: %s' % pandas.__version__)\n",
    "# statsmodels\n",
    "import statsmodels\n",
    "print('statsmodels: %s' % statsmodels.__version__)\n",
    "# scikit-learn\n",
    "import sklearn\n",
    "print('sklearn: %s' % sklearn.__version__)"
   ]
  },
  {
   "cell_type": "markdown",
   "metadata": {},
   "source": [
    "#### Install Deep Learning Libraries"
   ]
  },
  {
   "cell_type": "code",
   "execution_count": 8,
   "metadata": {},
   "outputs": [
    {
     "name": "stdout",
     "output_type": "stream",
     "text": [
      "Collecting package metadata (current_repodata.json): ...working... done\n",
      "Solving environment: ...working... done\n",
      "\n",
      "## Package Plan ##\n",
      "\n",
      "  environment location: C:\\Users\\sadiqgpasha\\Anaconda3\n",
      "\n",
      "  added / updated specs:\n",
      "    - theano\n",
      "\n",
      "\n",
      "The following packages will be downloaded:\n",
      "\n",
      "    package                    |            build\n",
      "    ---------------------------|-----------------\n",
      "    conda-4.8.3                |           py37_0         2.8 MB\n",
      "    libgpuarray-0.7.6          |       hfa6e2cd_0         234 KB\n",
      "    libpython-2.1              |           py37_0          47 KB\n",
      "    m2w64-binutils-2.25.1      |                5        44.3 MB\n",
      "    m2w64-bzip2-1.0.6          |                6         100 KB\n",
      "    m2w64-crt-git-5.0.0.4636.2595836|                2         3.4 MB\n",
      "    m2w64-gcc-5.3.0            |                6        41.1 MB\n",
      "    m2w64-gcc-ada-5.3.0        |                6        33.5 MB\n",
      "    m2w64-gcc-fortran-5.3.0    |                6        10.3 MB\n",
      "    m2w64-gcc-objc-5.3.0       |                6        15.1 MB\n",
      "    m2w64-headers-git-5.0.0.4636.c0ad18a|                2         5.6 MB\n",
      "    m2w64-isl-0.16.1           |                2         655 KB\n",
      "    m2w64-libiconv-1.14        |                6         1.5 MB\n",
      "    m2w64-libmangle-git-5.0.0.4509.2e5a9a2|                2          21 KB\n",
      "    m2w64-make-4.1.2351.a80a8b8|                2         116 KB\n",
      "    m2w64-mpc-1.0.3            |                3          70 KB\n",
      "    m2w64-mpfr-3.1.4           |                4         293 KB\n",
      "    m2w64-pkg-config-0.29.1    |                2         469 KB\n",
      "    m2w64-toolchain-5.3.0      |                7           2 KB\n",
      "    m2w64-tools-git-5.0.0.4592.90b8472|                2         314 KB\n",
      "    m2w64-windows-default-manifest-6.4|                3           3 KB\n",
      "    m2w64-winpthreads-git-5.0.0.4634.697f757|                2          45 KB\n",
      "    m2w64-zlib-1.2.8           |               10         197 KB\n",
      "    mako-1.1.2                 |             py_0          63 KB\n",
      "    pygpu-0.7.6                |   py37h452e1ab_0         459 KB\n",
      "    theano-1.0.4               |           py37_0         3.2 MB\n",
      "    ------------------------------------------------------------\n",
      "                                           Total:       163.9 MB\n",
      "\n",
      "The following NEW packages will be INSTALLED:\n",
      "\n",
      "  libgpuarray        pkgs/main/win-64::libgpuarray-0.7.6-hfa6e2cd_0\n",
      "  libpython          pkgs/main/win-64::libpython-2.1-py37_0\n",
      "  m2w64-binutils     pkgs/msys2/win-64::m2w64-binutils-2.25.1-5\n",
      "  m2w64-bzip2        pkgs/msys2/win-64::m2w64-bzip2-1.0.6-6\n",
      "  m2w64-crt-git      pkgs/msys2/win-64::m2w64-crt-git-5.0.0.4636.2595836-2\n",
      "  m2w64-gcc          pkgs/msys2/win-64::m2w64-gcc-5.3.0-6\n",
      "  m2w64-gcc-ada      pkgs/msys2/win-64::m2w64-gcc-ada-5.3.0-6\n",
      "  m2w64-gcc-fortran  pkgs/msys2/win-64::m2w64-gcc-fortran-5.3.0-6\n",
      "  m2w64-gcc-objc     pkgs/msys2/win-64::m2w64-gcc-objc-5.3.0-6\n",
      "  m2w64-headers-git  pkgs/msys2/win-64::m2w64-headers-git-5.0.0.4636.c0ad18a-2\n",
      "  m2w64-isl          pkgs/msys2/win-64::m2w64-isl-0.16.1-2\n",
      "  m2w64-libiconv     pkgs/msys2/win-64::m2w64-libiconv-1.14-6\n",
      "  m2w64-libmangle-g~ pkgs/msys2/win-64::m2w64-libmangle-git-5.0.0.4509.2e5a9a2-2\n",
      "  m2w64-make         pkgs/msys2/win-64::m2w64-make-4.1.2351.a80a8b8-2\n",
      "  m2w64-mpc          pkgs/msys2/win-64::m2w64-mpc-1.0.3-3\n",
      "  m2w64-mpfr         pkgs/msys2/win-64::m2w64-mpfr-3.1.4-4\n",
      "  m2w64-pkg-config   pkgs/msys2/win-64::m2w64-pkg-config-0.29.1-2\n",
      "  m2w64-toolchain    pkgs/msys2/win-64::m2w64-toolchain-5.3.0-7\n",
      "  m2w64-tools-git    pkgs/msys2/win-64::m2w64-tools-git-5.0.0.4592.90b8472-2\n",
      "  m2w64-windows-def~ pkgs/msys2/win-64::m2w64-windows-default-manifest-6.4-3\n",
      "  m2w64-winpthreads~ pkgs/msys2/win-64::m2w64-winpthreads-git-5.0.0.4634.697f757-2\n",
      "  m2w64-zlib         pkgs/msys2/win-64::m2w64-zlib-1.2.8-10\n",
      "  mako               pkgs/main/noarch::mako-1.1.2-py_0\n",
      "  pygpu              pkgs/main/win-64::pygpu-0.7.6-py37h452e1ab_0\n",
      "  theano             pkgs/main/win-64::theano-1.0.4-py37_0\n",
      "\n",
      "The following packages will be UPDATED:\n",
      "\n",
      "  conda                                       4.7.10-py37_0 --> 4.8.3-py37_0\n",
      "\n",
      "\n",
      "\n",
      "Downloading and Extracting Packages\n",
      "\n",
      "m2w64-mpc-1.0.3      | 70 KB     |            |   0% \n",
      "m2w64-mpc-1.0.3      | 70 KB     | ##2        |  23% \n",
      "m2w64-mpc-1.0.3      | 70 KB     | ########## | 100% \n",
      "\n",
      "m2w64-gcc-objc-5.3.0 | 15.1 MB   |            |   0% \n",
      "m2w64-gcc-objc-5.3.0 | 15.1 MB   |            |   1% \n",
      "m2w64-gcc-objc-5.3.0 | 15.1 MB   | 2          |   3% \n",
      "m2w64-gcc-objc-5.3.0 | 15.1 MB   | 8          |   9% \n",
      "m2w64-gcc-objc-5.3.0 | 15.1 MB   | #4         |  14% \n",
      "m2w64-gcc-objc-5.3.0 | 15.1 MB   | ##         |  20% \n",
      "m2w64-gcc-objc-5.3.0 | 15.1 MB   | ##8        |  28% \n",
      "m2w64-gcc-objc-5.3.0 | 15.1 MB   | ###5       |  36% \n",
      "m2w64-gcc-objc-5.3.0 | 15.1 MB   | ####3      |  43% \n",
      "m2w64-gcc-objc-5.3.0 | 15.1 MB   | #####      |  51% \n",
      "m2w64-gcc-objc-5.3.0 | 15.1 MB   | #####7     |  58% \n",
      "m2w64-gcc-objc-5.3.0 | 15.1 MB   | ######5    |  66% \n",
      "m2w64-gcc-objc-5.3.0 | 15.1 MB   | #######3   |  73% \n",
      "m2w64-gcc-objc-5.3.0 | 15.1 MB   | ########   |  80% \n",
      "m2w64-gcc-objc-5.3.0 | 15.1 MB   | ########8  |  88% \n",
      "m2w64-gcc-objc-5.3.0 | 15.1 MB   | #########5 |  96% \n",
      "m2w64-gcc-objc-5.3.0 | 15.1 MB   | ########## | 100% \n",
      "\n",
      "m2w64-windows-defaul | 3 KB      |            |   0% \n",
      "m2w64-windows-defaul | 3 KB      | ########## | 100% \n",
      "\n",
      "m2w64-libmangle-git- | 21 KB     |            |   0% \n",
      "m2w64-libmangle-git- | 21 KB     | ########## | 100% \n",
      "\n",
      "mako-1.1.2           | 63 KB     |            |   0% \n",
      "mako-1.1.2           | 63 KB     | ########## | 100% \n",
      "\n",
      "m2w64-gcc-fortran-5. | 10.3 MB   |            |   0% \n",
      "m2w64-gcc-fortran-5. | 10.3 MB   | 4          |   5% \n",
      "m2w64-gcc-fortran-5. | 10.3 MB   | #5         |  16% \n",
      "m2w64-gcc-fortran-5. | 10.3 MB   | ##6        |  27% \n",
      "m2w64-gcc-fortran-5. | 10.3 MB   | ###7       |  38% \n",
      "m2w64-gcc-fortran-5. | 10.3 MB   | ####8      |  49% \n",
      "m2w64-gcc-fortran-5. | 10.3 MB   | #####7     |  58% \n",
      "m2w64-gcc-fortran-5. | 10.3 MB   | #######6   |  77% \n",
      "m2w64-gcc-fortran-5. | 10.3 MB   | ########7  |  88% \n",
      "m2w64-gcc-fortran-5. | 10.3 MB   | #########8 |  99% \n",
      "m2w64-gcc-fortran-5. | 10.3 MB   | ########## | 100% \n",
      "\n",
      "m2w64-binutils-2.25. | 44.3 MB   |            |   0% \n",
      "m2w64-binutils-2.25. | 44.3 MB   | 1          |   1% \n",
      "m2w64-binutils-2.25. | 44.3 MB   | 3          |   4% \n",
      "m2w64-binutils-2.25. | 44.3 MB   | 6          |   6% \n",
      "m2w64-binutils-2.25. | 44.3 MB   | 8          |   9% \n",
      "m2w64-binutils-2.25. | 44.3 MB   | #1         |  11% \n",
      "m2w64-binutils-2.25. | 44.3 MB   | #3         |  14% \n",
      "m2w64-binutils-2.25. | 44.3 MB   | #6         |  16% \n",
      "m2w64-binutils-2.25. | 44.3 MB   | ##         |  21% \n",
      "m2w64-binutils-2.25. | 44.3 MB   | ##3        |  23% \n",
      "m2w64-binutils-2.25. | 44.3 MB   | ##7        |  27% \n",
      "m2w64-binutils-2.25. | 44.3 MB   | ##9        |  30% \n",
      "m2w64-binutils-2.25. | 44.3 MB   | ###2       |  32% \n",
      "m2w64-binutils-2.25. | 44.3 MB   | ###7       |  38% \n",
      "m2w64-binutils-2.25. | 44.3 MB   | ####1      |  41% \n",
      "m2w64-binutils-2.25. | 44.3 MB   | ####7      |  47% \n",
      "m2w64-binutils-2.25. | 44.3 MB   | #####1     |  51% \n",
      "m2w64-binutils-2.25. | 44.3 MB   | #####4     |  55% \n",
      "m2w64-binutils-2.25. | 44.3 MB   | #####8     |  59% \n",
      "m2w64-binutils-2.25. | 44.3 MB   | ######2    |  62% \n",
      "m2w64-binutils-2.25. | 44.3 MB   | ######5    |  65% \n",
      "m2w64-binutils-2.25. | 44.3 MB   | ######8    |  68% \n",
      "m2w64-binutils-2.25. | 44.3 MB   | #######1   |  71% \n",
      "m2w64-binutils-2.25. | 44.3 MB   | #######5   |  75% \n",
      "m2w64-binutils-2.25. | 44.3 MB   | #######8   |  78% \n",
      "m2w64-binutils-2.25. | 44.3 MB   | ########1  |  81% \n",
      "m2w64-binutils-2.25. | 44.3 MB   | ########3  |  84% \n",
      "m2w64-binutils-2.25. | 44.3 MB   | ########6  |  86% \n",
      "m2w64-binutils-2.25. | 44.3 MB   | ########8  |  89% \n",
      "m2w64-binutils-2.25. | 44.3 MB   | #########1 |  91% \n",
      "m2w64-binutils-2.25. | 44.3 MB   | #########3 |  94% \n",
      "m2w64-binutils-2.25. | 44.3 MB   | #########6 |  97% \n",
      "m2w64-binutils-2.25. | 44.3 MB   | #########8 |  99% \n",
      "m2w64-binutils-2.25. | 44.3 MB   | ########## | 100% \n",
      "\n",
      "theano-1.0.4         | 3.2 MB    |            |   0% \n",
      "theano-1.0.4         | 3.2 MB    | #3         |  13% \n",
      "theano-1.0.4         | 3.2 MB    | ####9      |  50% \n",
      "theano-1.0.4         | 3.2 MB    | ########5  |  86% \n",
      "theano-1.0.4         | 3.2 MB    | ########## | 100% \n",
      "\n",
      "conda-4.8.3          | 2.8 MB    |            |   0% \n",
      "conda-4.8.3          | 2.8 MB    | #5         |  15% \n",
      "conda-4.8.3          | 2.8 MB    | #####5     |  56% \n",
      "conda-4.8.3          | 2.8 MB    | #########6 |  96% \n",
      "conda-4.8.3          | 2.8 MB    | ########## | 100% \n",
      "\n",
      "pygpu-0.7.6          | 459 KB    |            |   0% \n",
      "pygpu-0.7.6          | 459 KB    | #########7 |  98% \n",
      "pygpu-0.7.6          | 459 KB    | ########## | 100% \n",
      "\n",
      "m2w64-gcc-ada-5.3.0  | 33.5 MB   |            |   0% \n",
      "m2w64-gcc-ada-5.3.0  | 33.5 MB   | 1          |   1% \n",
      "m2w64-gcc-ada-5.3.0  | 33.5 MB   | 4          |   4% \n",
      "m2w64-gcc-ada-5.3.0  | 33.5 MB   | 7          |   8% \n",
      "m2w64-gcc-ada-5.3.0  | 33.5 MB   | #1         |  11% \n",
      "m2w64-gcc-ada-5.3.0  | 33.5 MB   | #3         |  13% \n",
      "m2w64-gcc-ada-5.3.0  | 33.5 MB   | #8         |  19% \n",
      "m2w64-gcc-ada-5.3.0  | 33.5 MB   | ##2        |  22% \n",
      "m2w64-gcc-ada-5.3.0  | 33.5 MB   | ##5        |  26% \n",
      "m2w64-gcc-ada-5.3.0  | 33.5 MB   | ##8        |  29% \n",
      "m2w64-gcc-ada-5.3.0  | 33.5 MB   | ###2       |  32% \n",
      "m2w64-gcc-ada-5.3.0  | 33.5 MB   | ###5       |  36% \n",
      "m2w64-gcc-ada-5.3.0  | 33.5 MB   | ###8       |  39% \n",
      "m2w64-gcc-ada-5.3.0  | 33.5 MB   | ####5      |  45% \n",
      "m2w64-gcc-ada-5.3.0  | 33.5 MB   | ####8      |  49% \n",
      "m2w64-gcc-ada-5.3.0  | 33.5 MB   | #####2     |  52% \n",
      "m2w64-gcc-ada-5.3.0  | 33.5 MB   | #####9     |  59% \n",
      "m2w64-gcc-ada-5.3.0  | 33.5 MB   | ######3    |  64% \n",
      "m2w64-gcc-ada-5.3.0  | 33.5 MB   | ######9    |  69% \n",
      "m2w64-gcc-ada-5.3.0  | 33.5 MB   | #######3   |  73% \n",
      "m2w64-gcc-ada-5.3.0  | 33.5 MB   | #######7   |  77% \n",
      "m2w64-gcc-ada-5.3.0  | 33.5 MB   | ########1  |  82% \n",
      "m2w64-gcc-ada-5.3.0  | 33.5 MB   | ########5  |  86% \n",
      "m2w64-gcc-ada-5.3.0  | 33.5 MB   | ########9  |  89% \n",
      "m2w64-gcc-ada-5.3.0  | 33.5 MB   | #########5 |  95% \n",
      "m2w64-gcc-ada-5.3.0  | 33.5 MB   | #########9 |  99% \n",
      "m2w64-gcc-ada-5.3.0  | 33.5 MB   | ########## | 100% \n",
      "\n",
      "libgpuarray-0.7.6    | 234 KB    |            |   0% \n",
      "libgpuarray-0.7.6    | 234 KB    | ####1      |  41% \n",
      "libgpuarray-0.7.6    | 234 KB    | ########## | 100% \n",
      "\n",
      "m2w64-toolchain-5.3. | 2 KB      |            |   0% \n",
      "m2w64-toolchain-5.3. | 2 KB      | ########## | 100% \n",
      "\n",
      "m2w64-zlib-1.2.8     | 197 KB    |            |   0% \n",
      "m2w64-zlib-1.2.8     | 197 KB    | ########## | 100% \n",
      "\n",
      "m2w64-crt-git-5.0.0. | 3.4 MB    |            |   0% \n",
      "m2w64-crt-git-5.0.0. | 3.4 MB    | #3         |  13% \n",
      "m2w64-crt-git-5.0.0. | 3.4 MB    | ####6      |  47% \n",
      "m2w64-crt-git-5.0.0. | 3.4 MB    | ########   |  80% \n",
      "m2w64-crt-git-5.0.0. | 3.4 MB    | ########## | 100% \n",
      "\n",
      "m2w64-gcc-5.3.0      | 41.1 MB   |            |   0% \n",
      "m2w64-gcc-5.3.0      | 41.1 MB   |            |   1% \n",
      "m2w64-gcc-5.3.0      | 41.1 MB   | 2          |   2% \n",
      "m2w64-gcc-5.3.0      | 41.1 MB   | 6          |   6% \n",
      "m2w64-gcc-5.3.0      | 41.1 MB   | 8          |   9% \n",
      "m2w64-gcc-5.3.0      | 41.1 MB   | #          |  11% \n",
      "m2w64-gcc-5.3.0      | 41.1 MB   | #5         |  16% \n",
      "m2w64-gcc-5.3.0      | 41.1 MB   | #8         |  19% \n",
      "m2w64-gcc-5.3.0      | 41.1 MB   | ##3        |  23% \n",
      "m2w64-gcc-5.3.0      | 41.1 MB   | ##6        |  26% \n",
      "m2w64-gcc-5.3.0      | 41.1 MB   | ###1       |  31% \n",
      "m2w64-gcc-5.3.0      | 41.1 MB   | ###4       |  34% \n",
      "m2w64-gcc-5.3.0      | 41.1 MB   | ###7       |  37% \n",
      "m2w64-gcc-5.3.0      | 41.1 MB   | ####       |  40% \n",
      "m2w64-gcc-5.3.0      | 41.1 MB   | ####2      |  43% \n",
      "m2w64-gcc-5.3.0      | 41.1 MB   | ####5      |  45% \n",
      "m2w64-gcc-5.3.0      | 41.1 MB   | ####7      |  48% \n",
      "m2w64-gcc-5.3.0      | 41.1 MB   | #####      |  50% \n",
      "m2w64-gcc-5.3.0      | 41.1 MB   | #####2     |  53% \n",
      "m2w64-gcc-5.3.0      | 41.1 MB   | #####4     |  55% \n",
      "m2w64-gcc-5.3.0      | 41.1 MB   | #####7     |  57% \n",
      "m2w64-gcc-5.3.0      | 41.1 MB   | #####9     |  60% \n",
      "m2w64-gcc-5.3.0      | 41.1 MB   | ######1    |  62% \n",
      "m2w64-gcc-5.3.0      | 41.1 MB   | ######4    |  64% \n",
      "m2w64-gcc-5.3.0      | 41.1 MB   | ######6    |  67% \n",
      "m2w64-gcc-5.3.0      | 41.1 MB   | ######9    |  69% \n",
      "m2w64-gcc-5.3.0      | 41.1 MB   | #######1   |  71% \n",
      "m2w64-gcc-5.3.0      | 41.1 MB   | #######3   |  74% \n",
      "m2w64-gcc-5.3.0      | 41.1 MB   | #######5   |  76% \n",
      "m2w64-gcc-5.3.0      | 41.1 MB   | #######8   |  78% \n",
      "m2w64-gcc-5.3.0      | 41.1 MB   | ########   |  81% \n",
      "m2w64-gcc-5.3.0      | 41.1 MB   | ########2  |  83% \n",
      "m2w64-gcc-5.3.0      | 41.1 MB   | ########5  |  85% \n",
      "m2w64-gcc-5.3.0      | 41.1 MB   | ########8  |  88% \n",
      "m2w64-gcc-5.3.0      | 41.1 MB   | #########1 |  91% \n",
      "m2w64-gcc-5.3.0      | 41.1 MB   | #########3 |  94% \n",
      "m2w64-gcc-5.3.0      | 41.1 MB   | #########6 |  96% \n",
      "m2w64-gcc-5.3.0      | 41.1 MB   | #########9 |  99% \n",
      "m2w64-gcc-5.3.0      | 41.1 MB   | ########## | 100% \n",
      "\n",
      "m2w64-mpfr-3.1.4     | 293 KB    |            |   0% \n",
      "m2w64-mpfr-3.1.4     | 293 KB    | #######    |  71% \n",
      "m2w64-mpfr-3.1.4     | 293 KB    | ########## | 100% \n",
      "\n",
      "libpython-2.1        | 47 KB     |            |   0% \n",
      "libpython-2.1        | 47 KB     | ########## | 100% \n",
      "\n",
      "m2w64-libiconv-1.14  | 1.5 MB    |            |   0% \n",
      "m2w64-libiconv-1.14  | 1.5 MB    | ###        |  31% \n",
      "m2w64-libiconv-1.14  | 1.5 MB    | ########## | 100% \n",
      "\n",
      "m2w64-tools-git-5.0. | 314 KB    |            |   0% \n",
      "m2w64-tools-git-5.0. | 314 KB    | ########## | 100% \n",
      "\n",
      "m2w64-headers-git-5. | 5.6 MB    |            |   0% \n",
      "m2w64-headers-git-5. | 5.6 MB    | 6          |   7% \n",
      "m2w64-headers-git-5. | 5.6 MB    | ##6        |  27% \n",
      "m2w64-headers-git-5. | 5.6 MB    | ####5      |  46% \n",
      "m2w64-headers-git-5. | 5.6 MB    | #####5     |  55% \n",
      "m2w64-headers-git-5. | 5.6 MB    | #######5   |  75% \n",
      "m2w64-headers-git-5. | 5.6 MB    | #########5 |  96% \n",
      "m2w64-headers-git-5. | 5.6 MB    | ########## | 100% \n",
      "\n",
      "m2w64-make-4.1.2351. | 116 KB    |            |   0% \n",
      "m2w64-make-4.1.2351. | 116 KB    | ########## | 100% \n",
      "\n",
      "m2w64-isl-0.16.1     | 655 KB    |            |   0% \n",
      "m2w64-isl-0.16.1     | 655 KB    | #######5   |  76% \n",
      "m2w64-isl-0.16.1     | 655 KB    | ########## | 100% \n",
      "\n",
      "m2w64-bzip2-1.0.6    | 100 KB    |            |   0% \n",
      "m2w64-bzip2-1.0.6    | 100 KB    | ########## | 100% \n",
      "\n",
      "m2w64-pkg-config-0.2 | 469 KB    |            |   0% \n",
      "m2w64-pkg-config-0.2 | 469 KB    | ########## | 100% \n",
      "\n",
      "m2w64-winpthreads-gi | 45 KB     |            |   0% \n",
      "m2w64-winpthreads-gi | 45 KB     | ########## | 100% \n",
      "Preparing transaction: ...working... done\n",
      "Verifying transaction: ...working... done\n",
      "Executing transaction: ...working... done\n",
      "\n",
      "Note: you may need to restart the kernel to use updated packages.\n"
     ]
    }
   ],
   "source": [
    "conda install theano"
   ]
  },
  {
   "cell_type": "code",
   "execution_count": 9,
   "metadata": {},
   "outputs": [
    {
     "name": "stdout",
     "output_type": "stream",
     "text": [
      "Collecting package metadata (current_repodata.json): ...working... done\n",
      "Solving environment: ...working... \n",
      "The environment is inconsistent, please check the package plan carefully\n",
      "The following packages are causing the inconsistency:\n",
      "\n",
      "  - defaults/win-64::anaconda==2019.07=py37_0\n",
      "  - defaults/win-64::numba==0.44.1=py37hf9181ef_0\n",
      "failed with initial frozen solve. Retrying with flexible solve.\n",
      "Solving environment: ...working... done\n",
      "Collecting package metadata (repodata.json): ...working... done\n",
      "Solving environment: ...working... \n",
      "The environment is inconsistent, please check the package plan carefully\n",
      "The following packages are causing the inconsistency:\n",
      "\n",
      "  - defaults/win-64::anaconda==2019.07=py37_0\n",
      "  - defaults/win-64::numba==0.44.1=py37hf9181ef_0\n",
      "done\n",
      "\n",
      "## Package Plan ##\n",
      "\n",
      "  environment location: C:\\Users\\sadiqgpasha\\Anaconda3\n",
      "\n",
      "  added / updated specs:\n",
      "    - tensorflow\n",
      "\n",
      "\n",
      "The following packages will be downloaded:\n",
      "\n",
      "    package                    |            build\n",
      "    ---------------------------|-----------------\n",
      "    _anaconda_depends-2020.02  |           py37_0           6 KB\n",
      "    absl-py-0.9.0              |   py37hc8dfbb8_1         162 KB  conda-forge\n",
      "    anaconda-custom            |           py37_1           3 KB\n",
      "    argh-0.26.2                |        py37_1001          33 KB  conda-forge\n",
      "    astor-0.7.1                |             py_0          22 KB  conda-forge\n",
      "    autopep8-1.5.1             |     pyh9f0ad1d_0          39 KB  conda-forge\n",
      "    bcrypt-3.1.7               |   py37h8055547_1          40 KB  conda-forge\n",
      "    ca-certificates-2020.4.5.1 |       hecc5488_0         184 KB  conda-forge\n",
      "    certifi-2020.4.5.1         |   py37hc8dfbb8_0         150 KB  conda-forge\n",
      "    conda-4.8.3                |   py37hc8dfbb8_1         3.1 MB  conda-forge\n",
      "    diff-match-patch-20181111  |             py_0          37 KB  conda-forge\n",
      "    flake8-3.7.9               |   py37hc8dfbb8_1         147 KB  conda-forge\n",
      "    fsspec-0.7.2               |             py_0          49 KB  conda-forge\n",
      "    gast-0.3.3                 |             py_0          12 KB  conda-forge\n",
      "    grpcio-1.23.0              |   py37h3f65fb1_1         1.0 MB  conda-forge\n",
      "    hypothesis-4.39.0          |           py37_0         357 KB  conda-forge\n",
      "    intervaltree-3.0.2         |             py_0          23 KB  conda-forge\n",
      "    keras-applications-1.0.8   |             py_1          30 KB  conda-forge\n",
      "    keras-preprocessing-1.1.0  |             py_0          33 KB  conda-forge\n",
      "    libprotobuf-3.11.4         |       h1a1b453_0         2.2 MB  conda-forge\n",
      "    libspatialindex-1.9.3      |       he025d50_3         380 KB  conda-forge\n",
      "    markdown-3.2.1             |             py_0          61 KB  conda-forge\n",
      "    matplotlib-base-3.2.1      |   py37h911224e_0         7.1 MB  conda-forge\n",
      "    openssl-1.1.1f             |       hfa6e2cd_0         4.7 MB  conda-forge\n",
      "    paramiko-2.7.1             |           py37_0         281 KB  conda-forge\n",
      "    path-13.2.0                |           py37_0          35 KB  conda-forge\n",
      "    pathtools-0.1.2            |             py_1           8 KB  conda-forge\n",
      "    pexpect-4.8.0              |   py37hc8dfbb8_1          79 KB  conda-forge\n",
      "    protobuf-3.11.4            |   py37h5fe3f0a_1         583 KB  conda-forge\n",
      "    pydocstyle-5.0.2           |             py_0          32 KB  conda-forge\n",
      "    pynacl-1.3.0               |py37h2fa13f4_1001         1.4 MB  conda-forge\n",
      "    pytest-astropy-header-0.1.2|             py_0          10 KB  conda-forge\n",
      "    python-jsonrpc-server-0.3.4|             py_0          11 KB  conda-forge\n",
      "    python-language-server-0.28.1|           py37_0          75 KB  conda-forge\n",
      "    python_abi-3.7             |          1_cp37m           4 KB  conda-forge\n",
      "    pywin32-ctypes-0.2.0       |py37hc8dfbb8_1001          38 KB  conda-forge\n",
      "    qdarkstyle-2.8.1           |     pyh9f0ad1d_0         154 KB  conda-forge\n",
      "    rtree-0.9.4                |   py37h804a536_1          43 KB  conda-forge\n",
      "    tbb-2020.1                 |       he980bc4_0         167 KB  conda-forge\n",
      "    tensorboard-1.13.1         |           py37_0         3.3 MB  conda-forge\n",
      "    tensorflow-1.13.1          |       h21ff451_7          22 KB  conda-forge\n",
      "    tensorflow-base-1.13.1     |           py37_7        52.5 MB  conda-forge\n",
      "    tensorflow-estimator-1.13.0|   py37h39e3cac_0         470 KB  conda-forge\n",
      "    termcolor-1.1.0            |             py_2           6 KB  conda-forge\n",
      "    ujson-2.0.3                |   py37h63f7a3c_0          48 KB  conda-forge\n",
      "    watchdog-0.10.2            |           py37_0         107 KB  conda-forge\n",
      "    yapf-0.29.0                |             py_0         119 KB  conda-forge\n",
      "    ------------------------------------------------------------\n",
      "                                           Total:        79.4 MB\n",
      "\n",
      "The following NEW packages will be INSTALLED:\n",
      "\n",
      "  _anaconda_depends  pkgs/main/win-64::_anaconda_depends-2020.02-py37_0\n",
      "  absl-py            conda-forge/win-64::absl-py-0.9.0-py37hc8dfbb8_1\n",
      "  argh               conda-forge/win-64::argh-0.26.2-py37_1001\n",
      "  astor              conda-forge/noarch::astor-0.7.1-py_0\n",
      "  autopep8           conda-forge/noarch::autopep8-1.5.1-pyh9f0ad1d_0\n",
      "  bcrypt             conda-forge/win-64::bcrypt-3.1.7-py37h8055547_1\n",
      "  diff-match-patch   conda-forge/noarch::diff-match-patch-20181111-py_0\n",
      "  flake8             conda-forge/win-64::flake8-3.7.9-py37hc8dfbb8_1\n",
      "  fsspec             conda-forge/noarch::fsspec-0.7.2-py_0\n",
      "  gast               conda-forge/noarch::gast-0.3.3-py_0\n",
      "  grpcio             conda-forge/win-64::grpcio-1.23.0-py37h3f65fb1_1\n",
      "  hypothesis         conda-forge/win-64::hypothesis-4.39.0-py37_0\n",
      "  intervaltree       conda-forge/noarch::intervaltree-3.0.2-py_0\n",
      "  keras-applications conda-forge/noarch::keras-applications-1.0.8-py_1\n",
      "  keras-preprocessi~ conda-forge/noarch::keras-preprocessing-1.1.0-py_0\n",
      "  libprotobuf        conda-forge/win-64::libprotobuf-3.11.4-h1a1b453_0\n",
      "  libspatialindex    conda-forge/win-64::libspatialindex-1.9.3-he025d50_3\n",
      "  markdown           conda-forge/noarch::markdown-3.2.1-py_0\n",
      "  matplotlib-base    conda-forge/win-64::matplotlib-base-3.2.1-py37h911224e_0\n",
      "  paramiko           conda-forge/win-64::paramiko-2.7.1-py37_0\n",
      "  path               conda-forge/win-64::path-13.2.0-py37_0\n",
      "  pathtools          conda-forge/noarch::pathtools-0.1.2-py_1\n",
      "  pexpect            conda-forge/win-64::pexpect-4.8.0-py37hc8dfbb8_1\n",
      "  protobuf           conda-forge/win-64::protobuf-3.11.4-py37h5fe3f0a_1\n",
      "  pydocstyle         conda-forge/noarch::pydocstyle-5.0.2-py_0\n",
      "  pynacl             conda-forge/win-64::pynacl-1.3.0-py37h2fa13f4_1001\n",
      "  pytest-astropy-he~ conda-forge/noarch::pytest-astropy-header-0.1.2-py_0\n",
      "  python-jsonrpc-se~ conda-forge/noarch::python-jsonrpc-server-0.3.4-py_0\n",
      "  python-language-s~ conda-forge/win-64::python-language-server-0.28.1-py37_0\n",
      "  python_abi         conda-forge/win-64::python_abi-3.7-1_cp37m\n",
      "  pywin32-ctypes     conda-forge/win-64::pywin32-ctypes-0.2.0-py37hc8dfbb8_1001\n",
      "  qdarkstyle         conda-forge/noarch::qdarkstyle-2.8.1-pyh9f0ad1d_0\n",
      "  rtree              conda-forge/win-64::rtree-0.9.4-py37h804a536_1\n",
      "  tbb                conda-forge/win-64::tbb-2020.1-he980bc4_0\n",
      "  tensorboard        conda-forge/win-64::tensorboard-1.13.1-py37_0\n",
      "  tensorflow         conda-forge/win-64::tensorflow-1.13.1-h21ff451_7\n",
      "  tensorflow-base    conda-forge/win-64::tensorflow-base-1.13.1-py37_7\n",
      "  tensorflow-estima~ conda-forge/win-64::tensorflow-estimator-1.13.0-py37h39e3cac_0\n",
      "  termcolor          conda-forge/noarch::termcolor-1.1.0-py_2\n",
      "  ujson              conda-forge/win-64::ujson-2.0.3-py37h63f7a3c_0\n",
      "  watchdog           conda-forge/win-64::watchdog-0.10.2-py37_0\n",
      "  yapf               conda-forge/noarch::yapf-0.29.0-py_0\n",
      "\n",
      "The following packages will be UPDATED:\n",
      "\n",
      "  ca-certificates    pkgs/main::ca-certificates-2019.5.15-0 --> conda-forge::ca-certificates-2020.4.5.1-hecc5488_0\n",
      "  certifi               pkgs/main::certifi-2019.6.16-py37_0 --> conda-forge::certifi-2020.4.5.1-py37hc8dfbb8_0\n",
      "  conda                       pkgs/main::conda-4.8.3-py37_0 --> conda-forge::conda-4.8.3-py37hc8dfbb8_1\n",
      "  openssl              pkgs/main::openssl-1.1.1c-he774522_1 --> conda-forge::openssl-1.1.1f-hfa6e2cd_0\n",
      "\n",
      "The following packages will be DOWNGRADED:\n",
      "\n",
      "  anaconda                                   2019.07-py37_0 --> custom-py37_1\n",
      "\n",
      "\n",
      "\n",
      "Downloading and Extracting Packages\n",
      "\n",
      "protobuf-3.11.4      | 583 KB    |            |   0% \n",
      "protobuf-3.11.4      | 583 KB    | 2          |   3% \n",
      "protobuf-3.11.4      | 583 KB    | ######3    |  63% \n",
      "protobuf-3.11.4      | 583 KB    | ########## | 100% \n",
      "\n",
      "python-jsonrpc-serve | 11 KB     |            |   0% \n",
      "python-jsonrpc-serve | 11 KB     | ########## | 100% \n",
      "\n",
      "tbb-2020.1           | 167 KB    |            |   0% \n",
      "tbb-2020.1           | 167 KB    | ########## | 100% \n",
      "\n",
      "tensorflow-base-1.13 | 52.5 MB   |            |   0% \n",
      "tensorflow-base-1.13 | 52.5 MB   |            |   0% \n",
      "tensorflow-base-1.13 | 52.5 MB   | 2          |   3% \n",
      "tensorflow-base-1.13 | 52.5 MB   | 3          |   3% \n",
      "tensorflow-base-1.13 | 52.5 MB   | 5          |   6% \n",
      "tensorflow-base-1.13 | 52.5 MB   | 7          |   7% \n",
      "tensorflow-base-1.13 | 52.5 MB   | 8          |   9% \n",
      "tensorflow-base-1.13 | 52.5 MB   | #1         |  11% \n",
      "tensorflow-base-1.13 | 52.5 MB   | #3         |  13% \n",
      "tensorflow-base-1.13 | 52.5 MB   | #5         |  15% \n",
      "tensorflow-base-1.13 | 52.5 MB   | #8         |  18% \n",
      "tensorflow-base-1.13 | 52.5 MB   | ##         |  20% \n",
      "tensorflow-base-1.13 | 52.5 MB   | ##2        |  22% \n",
      "tensorflow-base-1.13 | 52.5 MB   | ##5        |  25% \n",
      "tensorflow-base-1.13 | 52.5 MB   | ##7        |  28% \n",
      "tensorflow-base-1.13 | 52.5 MB   | ##9        |  30% \n",
      "tensorflow-base-1.13 | 52.5 MB   | ###1       |  32% \n",
      "tensorflow-base-1.13 | 52.5 MB   | ###3       |  34% \n",
      "tensorflow-base-1.13 | 52.5 MB   | ###5       |  36% \n",
      "tensorflow-base-1.13 | 52.5 MB   | ###7       |  38% \n",
      "tensorflow-base-1.13 | 52.5 MB   | ###9       |  39% \n",
      "tensorflow-base-1.13 | 52.5 MB   | ####1      |  41% \n",
      "tensorflow-base-1.13 | 52.5 MB   | ####3      |  43% \n",
      "tensorflow-base-1.13 | 52.5 MB   | ####4      |  45% \n",
      "tensorflow-base-1.13 | 52.5 MB   | ####6      |  47% \n",
      "tensorflow-base-1.13 | 52.5 MB   | ####8      |  49% \n",
      "tensorflow-base-1.13 | 52.5 MB   | #####      |  51% \n",
      "tensorflow-base-1.13 | 52.5 MB   | #####2     |  52% \n",
      "tensorflow-base-1.13 | 52.5 MB   | #####4     |  54% \n",
      "tensorflow-base-1.13 | 52.5 MB   | #####6     |  56% \n",
      "tensorflow-base-1.13 | 52.5 MB   | #####7     |  58% \n",
      "tensorflow-base-1.13 | 52.5 MB   | #####9     |  60% \n",
      "tensorflow-base-1.13 | 52.5 MB   | ######1    |  62% \n",
      "tensorflow-base-1.13 | 52.5 MB   | ######3    |  63% \n",
      "tensorflow-base-1.13 | 52.5 MB   | ######5    |  65% \n",
      "tensorflow-base-1.13 | 52.5 MB   | ######7    |  67% \n",
      "tensorflow-base-1.13 | 52.5 MB   | ######9    |  69% \n",
      "tensorflow-base-1.13 | 52.5 MB   | #######1   |  71% \n",
      "tensorflow-base-1.13 | 52.5 MB   | #######3   |  74% \n",
      "tensorflow-base-1.13 | 52.5 MB   | #######5   |  76% \n",
      "tensorflow-base-1.13 | 52.5 MB   | #######7   |  78% \n",
      "tensorflow-base-1.13 | 52.5 MB   | #######9   |  80% \n",
      "tensorflow-base-1.13 | 52.5 MB   | ########2  |  82% \n",
      "tensorflow-base-1.13 | 52.5 MB   | ########4  |  84% \n",
      "tensorflow-base-1.13 | 52.5 MB   | ########6  |  87% \n",
      "tensorflow-base-1.13 | 52.5 MB   | ########8  |  89% \n",
      "tensorflow-base-1.13 | 52.5 MB   | #########  |  91% \n",
      "tensorflow-base-1.13 | 52.5 MB   | #########2 |  93% \n",
      "tensorflow-base-1.13 | 52.5 MB   | #########5 |  95% \n",
      "tensorflow-base-1.13 | 52.5 MB   | #########7 |  98% \n",
      "tensorflow-base-1.13 | 52.5 MB   | ########## | 100% \n",
      "\n",
      "_anaconda_depends-20 | 6 KB      |            |   0% \n",
      "_anaconda_depends-20 | 6 KB      | ########## | 100% \n",
      "\n",
      "libprotobuf-3.11.4   | 2.2 MB    |            |   0% \n",
      "libprotobuf-3.11.4   | 2.2 MB    | #6         |  16% \n",
      "libprotobuf-3.11.4   | 2.2 MB    | ######7    |  68% \n",
      "libprotobuf-3.11.4   | 2.2 MB    | ########## | 100% \n",
      "\n",
      "certifi-2020.4.5.1   | 150 KB    |            |   0% \n",
      "certifi-2020.4.5.1   | 150 KB    | ########## | 100% \n",
      "\n",
      "openssl-1.1.1f       | 4.7 MB    |            |   0% \n",
      "openssl-1.1.1f       | 4.7 MB    | 8          |   8% \n",
      "openssl-1.1.1f       | 4.7 MB    | ###1       |  31% \n",
      "openssl-1.1.1f       | 4.7 MB    | #####6     |  56% \n",
      "openssl-1.1.1f       | 4.7 MB    | #######8   |  79% \n",
      "openssl-1.1.1f       | 4.7 MB    | ########## | 100% \n",
      "\n",
      "pexpect-4.8.0        | 79 KB     |            |   0% \n",
      "pexpect-4.8.0        | 79 KB     | ########## | 100% \n",
      "\n",
      "hypothesis-4.39.0    | 357 KB    |            |   0% \n",
      "hypothesis-4.39.0    | 357 KB    | ########## | 100% \n",
      "\n",
      "keras-applications-1 | 30 KB     |            |   0% \n",
      "keras-applications-1 | 30 KB     | ########## | 100% \n",
      "\n",
      "rtree-0.9.4          | 43 KB     |            |   0% \n",
      "rtree-0.9.4          | 43 KB     | ########## | 100% \n",
      "\n",
      "python_abi-3.7       | 4 KB      |            |   0% \n",
      "python_abi-3.7       | 4 KB      | ########## | 100% \n",
      "\n",
      "termcolor-1.1.0      | 6 KB      |            |   0% \n",
      "termcolor-1.1.0      | 6 KB      | ########## | 100% \n",
      "\n",
      "path-13.2.0          | 35 KB     |            |   0% \n",
      "path-13.2.0          | 35 KB     | ########## | 100% \n",
      "\n",
      "tensorflow-1.13.1    | 22 KB     |            |   0% \n",
      "tensorflow-1.13.1    | 22 KB     | ########## | 100% \n",
      "\n",
      "diff-match-patch-201 | 37 KB     |            |   0% \n",
      "diff-match-patch-201 | 37 KB     | ########## | 100% \n",
      "\n",
      "pynacl-1.3.0         | 1.4 MB    |            |   0% \n",
      "pynacl-1.3.0         | 1.4 MB    | ##8        |  29% \n",
      "pynacl-1.3.0         | 1.4 MB    | ########## | 100% \n",
      "\n",
      "absl-py-0.9.0        | 162 KB    |            |   0% \n",
      "absl-py-0.9.0        | 162 KB    | ########## | 100% \n",
      "\n",
      "pathtools-0.1.2      | 8 KB      |            |   0% \n",
      "pathtools-0.1.2      | 8 KB      | ########## | 100% \n",
      "\n",
      "gast-0.3.3           | 12 KB     |            |   0% \n",
      "gast-0.3.3           | 12 KB     | ########## | 100% \n",
      "\n",
      "keras-preprocessing- | 33 KB     |            |   0% \n",
      "keras-preprocessing- | 33 KB     | ########## | 100% \n",
      "\n",
      "ca-certificates-2020 | 184 KB    |            |   0% \n",
      "ca-certificates-2020 | 184 KB    | ########## | 100% \n",
      "\n",
      "python-language-serv | 75 KB     |            |   0% \n",
      "python-language-serv | 75 KB     | ########## | 100% \n",
      "\n",
      "pytest-astropy-heade | 10 KB     |            |   0% \n",
      "pytest-astropy-heade | 10 KB     | ########## | 100% \n",
      "\n",
      "flake8-3.7.9         | 147 KB    |            |   0% \n",
      "flake8-3.7.9         | 147 KB    | ########## | 100% \n",
      "\n",
      "yapf-0.29.0          | 119 KB    |            |   0% \n",
      "yapf-0.29.0          | 119 KB    | ########## | 100% \n",
      "\n",
      "intervaltree-3.0.2   | 23 KB     |            |   0% \n",
      "intervaltree-3.0.2   | 23 KB     | ########## | 100% \n",
      "\n",
      "bcrypt-3.1.7         | 40 KB     |            |   0% \n",
      "bcrypt-3.1.7         | 40 KB     | ########## | 100% \n",
      "\n",
      "qdarkstyle-2.8.1     | 154 KB    |            |   0% \n",
      "qdarkstyle-2.8.1     | 154 KB    | ########## | 100% \n",
      "\n",
      "pywin32-ctypes-0.2.0 | 38 KB     |            |   0% \n",
      "pywin32-ctypes-0.2.0 | 38 KB     | ########## | 100% \n",
      "\n",
      "anaconda-custom      | 3 KB      |            |   0% \n",
      "anaconda-custom      | 3 KB      | ########## | 100% \n",
      "\n",
      "libspatialindex-1.9. | 380 KB    |            |   0% \n",
      "libspatialindex-1.9. | 380 KB    | ########4  |  84% \n",
      "libspatialindex-1.9. | 380 KB    | ########## | 100% \n",
      "\n",
      "grpcio-1.23.0        | 1.0 MB    |            |   0% \n",
      "grpcio-1.23.0        | 1.0 MB    | ##6        |  26% \n",
      "grpcio-1.23.0        | 1.0 MB    | ########## | 100% \n",
      "\n",
      "conda-4.8.3          | 3.1 MB    |            |   0% \n",
      "conda-4.8.3          | 3.1 MB    | #1         |  11% \n",
      "conda-4.8.3          | 3.1 MB    | ####9      |  50% \n",
      "conda-4.8.3          | 3.1 MB    | ########6  |  87% \n",
      "conda-4.8.3          | 3.1 MB    | ########## | 100% \n",
      "\n",
      "watchdog-0.10.2      | 107 KB    |            |   0% \n",
      "watchdog-0.10.2      | 107 KB    | ########## | 100% \n",
      "\n",
      "paramiko-2.7.1       | 281 KB    |            |   0% \n",
      "paramiko-2.7.1       | 281 KB    | ########## | 100% \n",
      "\n",
      "tensorboard-1.13.1   | 3.3 MB    |            |   0% \n",
      "tensorboard-1.13.1   | 3.3 MB    | 4          |   4% \n",
      "tensorboard-1.13.1   | 3.3 MB    | ####6      |  47% \n",
      "tensorboard-1.13.1   | 3.3 MB    | ########   |  81% \n",
      "tensorboard-1.13.1   | 3.3 MB    | ########## | 100% \n",
      "\n",
      "matplotlib-base-3.2. | 7.1 MB    |            |   0% \n",
      "matplotlib-base-3.2. | 7.1 MB    | 2          |   3% \n",
      "matplotlib-base-3.2. | 7.1 MB    | #9         |  19% \n",
      "matplotlib-base-3.2. | 7.1 MB    | ###5       |  35% \n",
      "matplotlib-base-3.2. | 7.1 MB    | #####      |  51% \n",
      "matplotlib-base-3.2. | 7.1 MB    | ######1    |  61% \n",
      "matplotlib-base-3.2. | 7.1 MB    | ########3  |  84% \n",
      "matplotlib-base-3.2. | 7.1 MB    | #########9 | 100% \n",
      "matplotlib-base-3.2. | 7.1 MB    | ########## | 100% \n",
      "\n",
      "fsspec-0.7.2         | 49 KB     |            |   0% \n",
      "fsspec-0.7.2         | 49 KB     | ########## | 100% \n",
      "\n",
      "tensorflow-estimator | 470 KB    |            |   0% \n",
      "tensorflow-estimator | 470 KB    | #########8 |  99% \n",
      "tensorflow-estimator | 470 KB    | ########## | 100% \n",
      "\n",
      "ujson-2.0.3          | 48 KB     |            |   0% \n",
      "ujson-2.0.3          | 48 KB     | ########## | 100% \n",
      "\n",
      "autopep8-1.5.1       | 39 KB     |            |   0% \n",
      "autopep8-1.5.1       | 39 KB     | ########## | 100% \n",
      "\n",
      "argh-0.26.2          | 33 KB     |            |   0% \n",
      "argh-0.26.2          | 33 KB     | ########## | 100% \n",
      "\n",
      "pydocstyle-5.0.2     | 32 KB     |            |   0% \n",
      "pydocstyle-5.0.2     | 32 KB     | ########## | 100% \n",
      "\n",
      "astor-0.7.1          | 22 KB     |            |   0% \n",
      "astor-0.7.1          | 22 KB     | ########## | 100% \n",
      "\n",
      "markdown-3.2.1       | 61 KB     |            |   0% \n",
      "markdown-3.2.1       | 61 KB     | ########## | 100% \n",
      "Preparing transaction: ...working... done\n",
      "Verifying transaction: ...working... done\n",
      "Executing transaction: ...working... done\n",
      "\n",
      "Note: you may need to restart the kernel to use updated packages.\n"
     ]
    }
   ],
   "source": [
    "conda install -c conda-forge tensorflow"
   ]
  },
  {
   "cell_type": "code",
   "execution_count": 10,
   "metadata": {},
   "outputs": [
    {
     "name": "stdout",
     "output_type": "stream",
     "text": [
      "Collecting keras\n",
      "  Downloading https://files.pythonhosted.org/packages/ad/fd/6bfe87920d7f4fd475acd28500a42482b6b84479832bdc0fe9e589a60ceb/Keras-2.3.1-py2.py3-none-any.whl (377kB)\n",
      "Requirement already satisfied: six>=1.9.0 in c:\\users\\sadiqgpasha\\anaconda3\\lib\\site-packages (from keras) (1.12.0)\n",
      "Requirement already satisfied: keras-applications>=1.0.6 in c:\\users\\sadiqgpasha\\anaconda3\\lib\\site-packages (from keras) (1.0.8)\n",
      "Requirement already satisfied: keras-preprocessing>=1.0.5 in c:\\users\\sadiqgpasha\\anaconda3\\lib\\site-packages (from keras) (1.1.0)\n",
      "Requirement already satisfied: numpy>=1.9.1 in c:\\users\\sadiqgpasha\\anaconda3\\lib\\site-packages (from keras) (1.16.4)\n",
      "Requirement already satisfied: pyyaml in c:\\users\\sadiqgpasha\\anaconda3\\lib\\site-packages (from keras) (5.1.1)\n",
      "Requirement already satisfied: scipy>=0.14 in c:\\users\\sadiqgpasha\\anaconda3\\lib\\site-packages (from keras) (1.2.1)\n",
      "Requirement already satisfied: h5py in c:\\users\\sadiqgpasha\\anaconda3\\lib\\site-packages (from keras) (2.9.0)\n",
      "Installing collected packages: keras\n",
      "Successfully installed keras-2.3.1\n",
      "Note: you may need to restart the kernel to use updated packages.\n"
     ]
    }
   ],
   "source": [
    "pip install keras"
   ]
  },
  {
   "cell_type": "code",
   "execution_count": 11,
   "metadata": {},
   "outputs": [
    {
     "name": "stdout",
     "output_type": "stream",
     "text": [
      "theano: 1.0.4\n",
      "tensorflow: 1.13.1\n",
      "keras: 2.3.1\n"
     ]
    },
    {
     "name": "stderr",
     "output_type": "stream",
     "text": [
      "Using TensorFlow backend.\n"
     ]
    }
   ],
   "source": [
    "# theano\n",
    "import theano\n",
    "print('theano: %s' % theano.__version__)\n",
    "\n",
    "# tensorflow\n",
    "import tensorflow\n",
    "print('tensorflow: %s' % tensorflow.__version__)\n",
    "\n",
    "# keras\n",
    "import keras\n",
    "print('keras: %s' % keras.__version__)"
   ]
  },
  {
   "cell_type": "markdown",
   "metadata": {},
   "source": [
    "##### Load Data From CSV"
   ]
  },
  {
   "cell_type": "code",
   "execution_count": 19,
   "metadata": {},
   "outputs": [
    {
     "name": "stdout",
     "output_type": "stream",
     "text": [
      "(768, 9)\n"
     ]
    }
   ],
   "source": [
    "# Load CSV using Pandas from URL\n",
    "import pandas\n",
    "url = \"https://raw.githubusercontent.com/jbrownlee/Datasets/master/pima-indians-diabetes.data.csv\"\n",
    "names = ['preg', 'plas', 'pres', 'skin', 'test', 'mass', 'pedi', 'age', 'class']\n",
    "data = pandas.read_csv(url, names=names)\n",
    "print(data.shape)"
   ]
  },
  {
   "cell_type": "markdown",
   "metadata": {},
   "source": [
    "##### Understand Data with Descriptive Statistics"
   ]
  },
  {
   "cell_type": "code",
   "execution_count": 18,
   "metadata": {},
   "outputs": [
    {
     "name": "stdout",
     "output_type": "stream",
     "text": [
      "             preg        plas        pres        skin        test        mass  \\\n",
      "count  768.000000  768.000000  768.000000  768.000000  768.000000  768.000000   \n",
      "mean     3.845052  120.894531   69.105469   20.536458   79.799479   31.992578   \n",
      "std      3.369578   31.972618   19.355807   15.952218  115.244002    7.884160   \n",
      "min      0.000000    0.000000    0.000000    0.000000    0.000000    0.000000   \n",
      "25%      1.000000   99.000000   62.000000    0.000000    0.000000   27.300000   \n",
      "50%      3.000000  117.000000   72.000000   23.000000   30.500000   32.000000   \n",
      "75%      6.000000  140.250000   80.000000   32.000000  127.250000   36.600000   \n",
      "max     17.000000  199.000000  122.000000   99.000000  846.000000   67.100000   \n",
      "\n",
      "             pedi         age       class  \n",
      "count  768.000000  768.000000  768.000000  \n",
      "mean     0.471876   33.240885    0.348958  \n",
      "std      0.331329   11.760232    0.476951  \n",
      "min      0.078000   21.000000    0.000000  \n",
      "25%      0.243750   24.000000    0.000000  \n",
      "50%      0.372500   29.000000    0.000000  \n",
      "75%      0.626250   41.000000    1.000000  \n",
      "max      2.420000   81.000000    1.000000  \n"
     ]
    }
   ],
   "source": [
    "import pandas\n",
    "url = \"https://raw.githubusercontent.com/jbrownlee/Datasets/master/pima-indians-diabetes.data.csv\"\n",
    "names = ['preg', 'plas', 'pres', 'skin', 'test', 'mass', 'pedi', 'age', 'class']\n",
    "data = pandas.read_csv(url, names=names)\n",
    "description = data.describe()\n",
    "print(description)"
   ]
  },
  {
   "cell_type": "markdown",
   "metadata": {},
   "source": [
    "##### Understand Data with Visualization"
   ]
  },
  {
   "cell_type": "code",
   "execution_count": 9,
   "metadata": {},
   "outputs": [
    {
     "name": "stderr",
     "output_type": "stream",
     "text": [
      "C:\\Users\\sadiqgpasha\\Anaconda3\\lib\\site-packages\\pandas\\plotting\\_tools.py:307: MatplotlibDeprecationWarning: \n",
      "The rowNum attribute was deprecated in Matplotlib 3.2 and will be removed two minor releases later. Use ax.get_subplotspec().rowspan.start instead.\n",
      "  layout[ax.rowNum, ax.colNum] = ax.get_visible()\n",
      "C:\\Users\\sadiqgpasha\\Anaconda3\\lib\\site-packages\\pandas\\plotting\\_tools.py:307: MatplotlibDeprecationWarning: \n",
      "The colNum attribute was deprecated in Matplotlib 3.2 and will be removed two minor releases later. Use ax.get_subplotspec().colspan.start instead.\n",
      "  layout[ax.rowNum, ax.colNum] = ax.get_visible()\n",
      "C:\\Users\\sadiqgpasha\\Anaconda3\\lib\\site-packages\\pandas\\plotting\\_tools.py:313: MatplotlibDeprecationWarning: \n",
      "The rowNum attribute was deprecated in Matplotlib 3.2 and will be removed two minor releases later. Use ax.get_subplotspec().rowspan.start instead.\n",
      "  if not layout[ax.rowNum + 1, ax.colNum]:\n",
      "C:\\Users\\sadiqgpasha\\Anaconda3\\lib\\site-packages\\pandas\\plotting\\_tools.py:313: MatplotlibDeprecationWarning: \n",
      "The colNum attribute was deprecated in Matplotlib 3.2 and will be removed two minor releases later. Use ax.get_subplotspec().colspan.start instead.\n",
      "  if not layout[ax.rowNum + 1, ax.colNum]:\n"
     ]
    },
    {
     "data": {
      "image/png": "[encoded data removed]",
      "text/plain": [
       "<Figure size 432x288 with 81 Axes>"
      ]
     },
     "metadata": {
      "needs_background": "light"
     },
     "output_type": "display_data"
    },
    {
     "data": {
      "text/plain": [
       "<Figure size 864x432 with 0 Axes>"
      ]
     },
     "metadata": {},
     "output_type": "display_data"
    }
   ],
   "source": [
    "# Scatter Plot Matrix\n",
    "import matplotlib.pyplot as plt\n",
    "%matplotlib inline\n",
    "import pandas\n",
    "from pandas.plotting import scatter_matrix\n",
    "url = \"https://raw.githubusercontent.com/jbrownlee/Datasets/master/pima-indians-diabetes.data.csv\"\n",
    "names = ['preg', 'plas', 'pres', 'skin', 'test', 'mass', 'pedi', 'age', 'class']\n",
    "data = pandas.read_csv(url, names=names)\n",
    "scatter_matrix(data)\n",
    "plt.figure(figsize=(12,6))\n",
    "plt.style.use('ggplot')\n",
    "plt.show()"
   ]
  },
  {
   "cell_type": "markdown",
   "metadata": {},
   "source": [
    "##### Prepare For Modeling by Pre-Processing Data"
   ]
  },
  {
   "cell_type": "markdown",
   "metadata": {},
   "source": [
    "The scikit-learn library provides two standard idioms for transforming data. Each transform is useful in different circumstances: Fit and Multiple Transform and Combined Fit-And-Transform.\n",
    "\n",
    "There are many techniques that you can use to prepare your data for modeling\n",
    "\n",
    "    Standardize numerical data (e.g. mean of 0 and standard deviation of 1) using the scale and center options.\n",
    "    Normalize numerical data (e.g. to a range of 0-1) using the range option.\n",
    "    Explore more advanced feature engineering such as Binarizing"
   ]
  },
  {
   "cell_type": "code",
   "execution_count": 10,
   "metadata": {},
   "outputs": [],
   "source": [
    "# Standardize data (0 mean, 1 stdev)\n",
    "from sklearn.preprocessing import StandardScaler\n",
    "import pandas\n",
    "import numpy\n",
    "url = \"https://raw.githubusercontent.com/jbrownlee/Datasets/master/pima-indians-diabetes.data.csv\"\n",
    "names = ['preg', 'plas', 'pres', 'skin', 'test', 'mass', 'pedi', 'age', 'class']\n",
    "dataframe = pandas.read_csv(url, names=names)\n"
   ]
  },
  {
   "cell_type": "code",
   "execution_count": 12,
   "metadata": {},
   "outputs": [
    {
     "data": {
      "text/plain": [
       "array([[  6.   , 148.   ,  72.   , ...,   0.627,  50.   ,   1.   ],\n",
       "       [  1.   ,  85.   ,  66.   , ...,   0.351,  31.   ,   0.   ],\n",
       "       [  8.   , 183.   ,  64.   , ...,   0.672,  32.   ,   1.   ],\n",
       "       ...,\n",
       "       [  5.   , 121.   ,  72.   , ...,   0.245,  30.   ,   0.   ],\n",
       "       [  1.   , 126.   ,  60.   , ...,   0.349,  47.   ,   1.   ],\n",
       "       [  1.   ,  93.   ,  70.   , ...,   0.315,  23.   ,   0.   ]])"
      ]
     },
     "execution_count": 12,
     "metadata": {},
     "output_type": "execute_result"
    }
   ],
   "source": [
    "array = dataframe.values\n",
    "array"
   ]
  },
  {
   "cell_type": "code",
   "execution_count": 13,
   "metadata": {},
   "outputs": [],
   "source": [
    "\n",
    "# separate array into input and output components\n",
    "X = array[:,0:8]\n",
    "Y = array[:,8]"
   ]
  },
  {
   "cell_type": "code",
   "execution_count": 14,
   "metadata": {},
   "outputs": [
    {
     "data": {
      "text/plain": [
       "array([[  6.   , 148.   ,  72.   , ...,  33.6  ,   0.627,  50.   ],\n",
       "       [  1.   ,  85.   ,  66.   , ...,  26.6  ,   0.351,  31.   ],\n",
       "       [  8.   , 183.   ,  64.   , ...,  23.3  ,   0.672,  32.   ],\n",
       "       ...,\n",
       "       [  5.   , 121.   ,  72.   , ...,  26.2  ,   0.245,  30.   ],\n",
       "       [  1.   , 126.   ,  60.   , ...,  30.1  ,   0.349,  47.   ],\n",
       "       [  1.   ,  93.   ,  70.   , ...,  30.4  ,   0.315,  23.   ]])"
      ]
     },
     "execution_count": 14,
     "metadata": {},
     "output_type": "execute_result"
    }
   ],
   "source": [
    "X"
   ]
  },
  {
   "cell_type": "code",
   "execution_count": 15,
   "metadata": {},
   "outputs": [
    {
     "data": {
      "text/plain": [
       "array([1., 0., 1., 0., 1., 0., 1., 0., 1., 1., 0., 1., 0., 1., 1., 1., 1.,\n",
       "       1., 0., 1., 0., 0., 1., 1., 1., 1., 1., 0., 0., 0., 0., 1., 0., 0.,\n",
       "       0., 0., 0., 1., 1., 1., 0., 0., 0., 1., 0., 1., 0., 0., 1., 0., 0.,\n",
       "       0., 0., 1., 0., 0., 1., 0., 0., 0., 0., 1., 0., 0., 1., 0., 1., 0.,\n",
       "       0., 0., 1., 0., 1., 0., 0., 0., 0., 0., 1., 0., 0., 0., 0., 0., 1.,\n",
       "       0., 0., 0., 1., 0., 0., 0., 0., 1., 0., 0., 0., 0., 0., 1., 1., 0.,\n",
       "       0., 0., 0., 0., 0., 0., 0., 1., 1., 1., 0., 0., 1., 1., 1., 0., 0.,\n",
       "       0., 1., 0., 0., 0., 1., 1., 0., 0., 1., 1., 1., 1., 1., 0., 0., 0.,\n",
       "       0., 0., 0., 0., 0., 0., 0., 1., 0., 0., 0., 0., 0., 0., 0., 0., 1.,\n",
       "       0., 1., 1., 0., 0., 0., 1., 0., 0., 0., 0., 1., 1., 0., 0., 0., 0.,\n",
       "       1., 1., 0., 0., 0., 1., 0., 1., 0., 1., 0., 0., 0., 0., 0., 1., 1.,\n",
       "       1., 1., 1., 0., 0., 1., 1., 0., 1., 0., 1., 1., 1., 0., 0., 0., 0.,\n",
       "       0., 0., 1., 1., 0., 1., 0., 0., 0., 1., 1., 1., 1., 0., 1., 1., 1.,\n",
       "       1., 0., 0., 0., 0., 0., 1., 0., 0., 1., 1., 0., 0., 0., 1., 1., 1.,\n",
       "       1., 0., 0., 0., 1., 1., 0., 1., 0., 0., 0., 0., 0., 0., 0., 0., 1.,\n",
       "       1., 0., 0., 0., 1., 0., 1., 0., 0., 1., 0., 1., 0., 0., 1., 1., 0.,\n",
       "       0., 0., 0., 0., 1., 0., 0., 0., 1., 0., 0., 1., 1., 0., 0., 1., 0.,\n",
       "       0., 0., 1., 1., 1., 0., 0., 1., 0., 1., 0., 1., 1., 0., 1., 0., 0.,\n",
       "       1., 0., 1., 1., 0., 0., 1., 0., 1., 0., 0., 1., 0., 1., 0., 1., 1.,\n",
       "       1., 0., 0., 1., 0., 1., 0., 0., 0., 1., 0., 0., 0., 0., 1., 1., 1.,\n",
       "       0., 0., 0., 0., 0., 0., 0., 0., 0., 1., 0., 0., 0., 0., 0., 1., 1.,\n",
       "       1., 0., 1., 1., 0., 0., 1., 0., 0., 1., 0., 0., 1., 1., 0., 0., 0.,\n",
       "       0., 1., 0., 0., 1., 0., 0., 0., 0., 0., 0., 0., 1., 1., 1., 0., 0.,\n",
       "       1., 0., 0., 1., 0., 0., 1., 0., 1., 1., 0., 1., 0., 1., 0., 1., 0.,\n",
       "       1., 1., 0., 0., 0., 0., 1., 1., 0., 1., 0., 1., 0., 0., 0., 0., 1.,\n",
       "       1., 0., 1., 0., 1., 0., 0., 0., 0., 0., 1., 0., 0., 0., 0., 1., 0.,\n",
       "       0., 1., 1., 1., 0., 0., 1., 0., 0., 1., 0., 0., 0., 1., 0., 0., 1.,\n",
       "       0., 0., 0., 0., 0., 0., 0., 0., 0., 1., 0., 0., 0., 0., 0., 0., 0.,\n",
       "       1., 0., 0., 0., 1., 0., 0., 0., 1., 1., 0., 0., 0., 0., 0., 0., 0.,\n",
       "       1., 0., 0., 0., 0., 1., 0., 0., 0., 1., 0., 0., 0., 1., 0., 0., 0.,\n",
       "       1., 0., 0., 0., 0., 1., 1., 0., 0., 0., 0., 0., 0., 1., 0., 0., 0.,\n",
       "       0., 0., 0., 0., 0., 0., 0., 0., 1., 0., 0., 0., 1., 1., 1., 1., 0.,\n",
       "       0., 1., 1., 0., 0., 0., 0., 0., 0., 0., 0., 0., 0., 0., 0., 0., 1.,\n",
       "       1., 0., 0., 0., 0., 0., 0., 0., 1., 0., 0., 0., 0., 0., 0., 0., 1.,\n",
       "       0., 1., 1., 0., 0., 0., 1., 0., 1., 0., 1., 0., 1., 0., 1., 0., 0.,\n",
       "       1., 0., 0., 1., 0., 0., 0., 0., 1., 1., 0., 1., 0., 0., 0., 0., 1.,\n",
       "       1., 0., 1., 0., 0., 0., 1., 1., 0., 0., 0., 0., 0., 0., 0., 0., 0.,\n",
       "       0., 1., 0., 0., 0., 0., 1., 0., 0., 1., 0., 0., 0., 1., 0., 0., 0.,\n",
       "       1., 1., 1., 0., 0., 0., 0., 0., 0., 1., 0., 0., 0., 1., 0., 1., 1.,\n",
       "       1., 1., 0., 1., 1., 0., 0., 0., 0., 0., 0., 0., 1., 1., 0., 1., 0.,\n",
       "       0., 1., 0., 1., 0., 0., 0., 0., 0., 1., 0., 1., 0., 1., 0., 1., 1.,\n",
       "       0., 0., 0., 0., 1., 1., 0., 0., 0., 1., 0., 1., 1., 0., 0., 1., 0.,\n",
       "       0., 1., 1., 0., 0., 1., 0., 0., 1., 0., 0., 0., 0., 0., 0., 0., 1.,\n",
       "       1., 1., 0., 0., 0., 0., 0., 0., 1., 1., 0., 0., 1., 0., 0., 1., 0.,\n",
       "       1., 1., 1., 0., 0., 1., 1., 1., 0., 1., 0., 1., 0., 1., 0., 0., 0.,\n",
       "       0., 1., 0.])"
      ]
     },
     "execution_count": 15,
     "metadata": {},
     "output_type": "execute_result"
    }
   ],
   "source": [
    "Y"
   ]
  },
  {
   "cell_type": "code",
   "execution_count": 16,
   "metadata": {},
   "outputs": [],
   "source": [
    "\n",
    "scaler = StandardScaler().fit(X)\n",
    "rescaledX = scaler.transform(X)"
   ]
  },
  {
   "cell_type": "code",
   "execution_count": 17,
   "metadata": {},
   "outputs": [
    {
     "name": "stdout",
     "output_type": "stream",
     "text": [
      "[[ 0.64   0.848  0.15   0.907 -0.693  0.204  0.468  1.426]\n",
      " [-0.845 -1.123 -0.161  0.531 -0.693 -0.684 -0.365 -0.191]\n",
      " [ 1.234  1.944 -0.264 -1.288 -0.693 -1.103  0.604 -0.106]\n",
      " [-0.845 -0.998 -0.161  0.155  0.123 -0.494 -0.921 -1.042]\n",
      " [-1.142  0.504 -1.505  0.907  0.766  1.41   5.485 -0.02 ]]\n"
     ]
    }
   ],
   "source": [
    "\n",
    "# summarize transformed data\n",
    "numpy.set_printoptions(precision=3)\n",
    "print(rescaledX[0:5,:])"
   ]
  },
  {
   "cell_type": "markdown",
   "metadata": {},
   "source": [
    "##### Algorithm Evaluation With Resampling Methods"
   ]
  },
  {
   "cell_type": "markdown",
   "metadata": {},
   "source": [
    "\n",
    "    Split a dataset into training and test sets.\n",
    "    Estimate the accuracy of an algorithm using k-fold cross validation.\n",
    "    Estimate the accuracy of an algorithm using leave one out cross validation.\n"
   ]
  },
  {
   "cell_type": "code",
   "execution_count": 19,
   "metadata": {},
   "outputs": [
    {
     "name": "stdout",
     "output_type": "stream",
     "text": [
      "Accuracy: 76.951% (4.841%)\n"
     ]
    }
   ],
   "source": [
    "# Evaluate using Cross Validation\n",
    "from pandas import read_csv\n",
    "from sklearn.model_selection import KFold\n",
    "from sklearn.model_selection import cross_val_score\n",
    "from sklearn.linear_model import LogisticRegression\n",
    "\n",
    "url = \"https://raw.githubusercontent.com/jbrownlee/Datasets/master/pima-indians-diabetes.data.csv\"\n",
    "\n",
    "names = ['preg', 'plas', 'pres', 'skin', 'test', 'mass', 'pedi', 'age', 'class']\n",
    "\n",
    "dataframe = read_csv(url, names=names)\n",
    "\n",
    "array = dataframe.values\n",
    "X = array[:,0:8]\n",
    "Y = array[:,8]\n",
    "\n",
    "kfold = KFold(n_splits=10, random_state=7)\n",
    "model = LogisticRegression(solver='liblinear')\n",
    "\n",
    "results = cross_val_score(model, X, Y, cv=kfold)\n",
    "\n",
    "print(\"Accuracy: %.3f%% (%.3f%%)\" % (results.mean()*100.0, results.std()*100.0))"
   ]
  },
  {
   "cell_type": "markdown",
   "metadata": {},
   "source": [
    "##### Algorithm Evaluation Metrics"
   ]
  },
  {
   "cell_type": "markdown",
   "metadata": {},
   "source": [
    "You can specify the metric used for your test harness in scikit-learn via the cross_validation.cross_val_score() function and defaults can be used for regression and classification problems\n",
    "\n",
    "\n",
    "    Practice using the Accuracy and LogLoss metrics on a classification problem.\n",
    "    Practice generating a confusion matrix and a classification report.\n",
    "    Practice using RMSE and RSquared metrics on a regression problem.\n"
   ]
  },
  {
   "cell_type": "code",
   "execution_count": 23,
   "metadata": {},
   "outputs": [
    {
     "name": "stdout",
     "output_type": "stream",
     "text": [
      "Logloss: -0.493 (0.047)\n"
     ]
    }
   ],
   "source": [
    "#Cross Validation Classification LogLoss\n",
    "from pandas import read_csv\n",
    "from sklearn.model_selection import KFold\n",
    "from sklearn.model_selection import cross_val_score\n",
    "from sklearn.linear_model import LogisticRegression\n",
    "\n",
    "url = \"https://raw.githubusercontent.com/jbrownlee/Datasets/master/pima-indians-diabetes.data.csv\"\n",
    "\n",
    "names = ['preg', 'plas', 'pres', 'skin', 'test', 'mass', 'pedi', 'age', 'class']\n",
    "dataframe = read_csv(url, names=names)\n",
    "\n",
    "array = dataframe.values\n",
    "X = array[:,0:8]\n",
    "Y = array[:,8]\n",
    "\n",
    "kfold = KFold(n_splits=10, random_state=7)\n",
    "model = LogisticRegression(solver='liblinear')\n",
    "\n",
    "scoring = 'neg_log_loss'\n",
    "results = cross_val_score(model, X, Y, cv=kfold, scoring=scoring)\n",
    "print(\"Logloss: %.3f (%.3f)\" % (results.mean(), results.std()))"
   ]
  },
  {
   "cell_type": "markdown",
   "metadata": {},
   "source": [
    "##### Spot-Check Algorithms"
   ]
  },
  {
   "cell_type": "markdown",
   "metadata": {},
   "source": [
    "You cannot possibly know which algorithm will perform best on your data beforehand.\n",
    "\n",
    "You have to discover it using a process of trial and error. I call this spot-checking algorithms. The scikit-learn library provides an interface to many machine learning algorithms and tools to compare the estimated accuracy of those algorithms\n",
    "\n",
    "practice spot checking different machine learning algorithms.\n",
    "\n",
    "    Spot check linear algorithms on a dataset (e.g. linear regression, logistic regression and linear discriminate analysis).\n",
    "    Spot check some non-linear algorithms on a dataset (e.g. KNN, SVM and CART).\n",
    "    Spot-check some sophisticated ensemble algorithms on a dataset (e.g. random forest and stochastic gradient boosting).\n"
   ]
  },
  {
   "cell_type": "code",
   "execution_count": 24,
   "metadata": {},
   "outputs": [
    {
     "name": "stdout",
     "output_type": "stream",
     "text": [
      "-107.28683898039215\n"
     ]
    }
   ],
   "source": [
    "# KNN Regression\n",
    "from pandas import read_csv\n",
    "from sklearn.model_selection import KFold\n",
    "from sklearn.model_selection import cross_val_score\n",
    "from sklearn.neighbors import KNeighborsRegressor\n",
    "\n",
    "url = \"https://raw.githubusercontent.com/jbrownlee/Datasets/master/housing.data\"\n",
    "\n",
    "names = ['CRIM', 'ZN', 'INDUS', 'CHAS', 'NOX', 'RM', 'AGE', 'DIS', 'RAD', 'TAX', 'PTRATIO', 'B', 'LSTAT', 'MEDV']\n",
    "dataframe = read_csv(url, delim_whitespace=True, names=names)\n",
    "\n",
    "array = dataframe.values\n",
    "X = array[:,0:13]\n",
    "Y = array[:,13]\n",
    "\n",
    "kfold = KFold(n_splits=10, random_state=7)\n",
    "model = KNeighborsRegressor()\n",
    "\n",
    "scoring = 'neg_mean_squared_error'\n",
    "results = cross_val_score(model, X, Y, cv=kfold, scoring=scoring)\n",
    "print(results.mean())"
   ]
  },
  {
   "cell_type": "markdown",
   "metadata": {},
   "source": [
    "##### Model Comparison and Selection"
   ]
  },
  {
   "cell_type": "markdown",
   "metadata": {},
   "source": [
    "you will practice comparing the accuracy of machine learning algorithms in Python with scikit-learn.\n",
    "\n",
    "    Compare linear algorithms to each other on a dataset.\n",
    "    Compare nonlinear algorithms to each other on a dataset.\n",
    "    Compare different configurations of the same algorithm to each other.\n",
    "    Create plots of the results comparing algorithms.\n"
   ]
  },
  {
   "cell_type": "code",
   "execution_count": 25,
   "metadata": {},
   "outputs": [
    {
     "name": "stdout",
     "output_type": "stream",
     "text": [
      "LR: 0.769515 (0.048411)\n",
      "LDA: 0.773462 (0.051592)\n"
     ]
    }
   ],
   "source": [
    "# Compare Algorithms\n",
    "from pandas import read_csv\n",
    "from sklearn.model_selection import KFold\n",
    "from sklearn.model_selection import cross_val_score\n",
    "from sklearn.linear_model import LogisticRegression\n",
    "from sklearn.discriminant_analysis import LinearDiscriminantAnalysis\n",
    "\n",
    "# load dataset\n",
    "url = \"https://raw.githubusercontent.com/jbrownlee/Datasets/master/pima-indians-diabetes.data.csv\"\n",
    "names = ['preg', 'plas', 'pres', 'skin', 'test', 'mass', 'pedi', 'age', 'class']\n",
    "dataframe = read_csv(url, names=names)\n",
    "\n",
    "array = dataframe.values\n",
    "X = array[:,0:8]\n",
    "Y = array[:,8]\n",
    "\n",
    "# prepare models\n",
    "models = []\n",
    "models.append(('LR', LogisticRegression(solver='liblinear')))\n",
    "models.append(('LDA', LinearDiscriminantAnalysis()))\n",
    "\n",
    "# evaluate each model in turn\n",
    "results = []\n",
    "names = []\n",
    "scoring = 'accuracy'\n",
    "for name, model in models:\n",
    "    kfold = KFold(n_splits=10, random_state=7)\n",
    "    cv_results = cross_val_score(model, X, Y, cv=kfold, scoring=scoring)\n",
    "    results.append(cv_results)\n",
    "    names.append(name)\n",
    "    msg = \"%s: %f (%f)\" % (name, cv_results.mean(), cv_results.std())\n",
    "    print(msg)"
   ]
  },
  {
   "cell_type": "markdown",
   "metadata": {},
   "source": [
    "##### Improve Accuracy with Algorithm Tuning"
   ]
  },
  {
   "cell_type": "markdown",
   "metadata": {},
   "source": [
    "The scikit-learn library provides two ways to search for combinations of parameters for a machine learning algorithm.\n",
    "\n",
    "    Tune the parameters of an algorithm using a grid search that you specify.\n",
    "    Tune the parameters of an algorithm using a random search"
   ]
  },
  {
   "cell_type": "code",
   "execution_count": 26,
   "metadata": {},
   "outputs": [
    {
     "name": "stdout",
     "output_type": "stream",
     "text": [
      "0.2796175593129722\n",
      "1.0\n"
     ]
    }
   ],
   "source": [
    "# Grid Search for Algorithm Tuning\n",
    "from pandas import read_csv\n",
    "import numpy\n",
    "from sklearn.linear_model import Ridge\n",
    "from sklearn.model_selection import GridSearchCV\n",
    "url = \"https://raw.githubusercontent.com/jbrownlee/Datasets/master/pima-indians-diabetes.data.csv\"\n",
    "names = ['preg', 'plas', 'pres', 'skin', 'test', 'mass', 'pedi', 'age', 'class']\n",
    "dataframe = read_csv(url, names=names)\n",
    "array = dataframe.values\n",
    "X = array[:,0:8]\n",
    "Y = array[:,8]\n",
    "\n",
    "alphas = numpy.array([1,0.1,0.01,0.001,0.0001,0])\n",
    "param_grid = dict(alpha=alphas)\n",
    "\n",
    "model = Ridge()\n",
    "grid = GridSearchCV(estimator=model, param_grid=param_grid, cv=3)\n",
    "grid.fit(X, Y)\n",
    "print(grid.best_score_)\n",
    "print(grid.best_estimator_.alpha)"
   ]
  },
  {
   "cell_type": "markdown",
   "metadata": {},
   "source": [
    "#### Improve Accuracy with Ensemble Predictions"
   ]
  },
  {
   "cell_type": "markdown",
   "metadata": {},
   "source": [
    "Another way that you can improve the performance of your models is to combine the predictions from multiple models.\n",
    "\n",
    "Some models provide this capability built-in such as random forest for bagging and stochastic gradient boosting for boosting. Another type of ensembling called voting can be used to combine the predictions from multiple different models together.\n",
    "\n",
    "\n",
    "    Practice bagging ensembles with the random forest and extra trees algorithms.\n",
    "    Practice boosting ensembles with the gradient boosting machine and AdaBoost algorithms.\n",
    "    Practice voting ensembles using by combining the predictions from multiple models together.\n"
   ]
  },
  {
   "cell_type": "code",
   "execution_count": 27,
   "metadata": {},
   "outputs": [
    {
     "name": "stdout",
     "output_type": "stream",
     "text": [
      "0.7694634313055366\n"
     ]
    }
   ],
   "source": [
    "# Random Forest Classification\n",
    "from pandas import read_csv\n",
    "from sklearn.model_selection import KFold\n",
    "from sklearn.model_selection import cross_val_score\n",
    "from sklearn.ensemble import RandomForestClassifier\n",
    "url = \"https://raw.githubusercontent.com/jbrownlee/Datasets/master/pima-indians-diabetes.data.csv\"\n",
    "names = ['preg', 'plas', 'pres', 'skin', 'test', 'mass', 'pedi', 'age', 'class']\n",
    "dataframe = read_csv(url, names=names)\n",
    "array = dataframe.values\n",
    "X = array[:,0:8]\n",
    "Y = array[:,8]\n",
    "\n",
    "num_trees = 100\n",
    "max_features = 3\n",
    "kfold = KFold(n_splits=10, random_state=7)\n",
    "model = RandomForestClassifier(n_estimators=num_trees, max_features=max_features)\n",
    "results = cross_val_score(model, X, Y, cv=kfold)\n",
    "print(results.mean())"
   ]
  },
  {
   "cell_type": "markdown",
   "metadata": {},
   "source": [
    "##### Finalize And Save Your Model"
   ]
  },
  {
   "cell_type": "markdown",
   "metadata": {},
   "source": [
    "Practice making predictions with your model on new data (data unseen during training and testing).\n",
    "Practice saving trained models to file and loading them up again"
   ]
  },
  {
   "cell_type": "code",
   "execution_count": 28,
   "metadata": {},
   "outputs": [],
   "source": [
    "#Save Model Using Pickle\n",
    "from pandas import read_csv\n",
    "from sklearn.model_selection import train_test_split\n",
    "from sklearn.linear_model import LogisticRegression\n",
    "import pickle\n",
    "\n",
    "url = \"https://raw.githubusercontent.com/jbrownlee/Datasets/master/pima-indians-diabetes.data.csv\"\n",
    "names = ['preg', 'plas', 'pres', 'skin', 'test', 'mass', 'pedi', 'age', 'class']\n",
    "dataframe = read_csv(url, names=names)\n",
    "\n",
    "array = dataframe.values\n",
    "X = array[:,0:8]\n",
    "Y = array[:,8]\n",
    "test_size = 0.33\n",
    "seed = 7\n",
    "X_train, X_test, Y_train, Y_test = train_test_split(X, Y, test_size=test_size, random_state=seed)\n",
    "\n",
    "# Fit the model on 33%\n",
    "model = LogisticRegression(solver='liblinear')\n",
    "model.fit(X_train, Y_train)\n",
    "\n",
    "# save the model to disk\n",
    "filename = 'finalized_model.sav'\n",
    "pickle.dump(model, open(filename, 'wb'))\n"
   ]
  },
  {
   "cell_type": "code",
   "execution_count": 29,
   "metadata": {},
   "outputs": [
    {
     "name": "stdout",
     "output_type": "stream",
     "text": [
      "0.7559055118110236\n"
     ]
    }
   ],
   "source": [
    "# load the model from disk\n",
    "loaded_model = pickle.load(open(filename, 'rb'))\n",
    "result = loaded_model.score(X_test, Y_test)\n",
    "print(result)"
   ]
  },
  {
   "cell_type": "code",
   "execution_count": null,
   "metadata": {},
   "outputs": [],
   "source": []
  }
 ],
 "metadata": {
  "kernelspec": {
   "display_name": "Python 3",
   "language": "python",
   "name": "python3"
  },
  "language_info": {
   "codemirror_mode": {
    "name": "ipython",
    "version": 3
   },
   "file_extension": ".py",
   "mimetype": "text/x-python",
   "name": "python",
   "nbconvert_exporter": "python",
   "pygments_lexer": "ipython3",
   "version": "3.7.3"
  }
 },
 "nbformat": 4,
 "nbformat_minor": 2
}
